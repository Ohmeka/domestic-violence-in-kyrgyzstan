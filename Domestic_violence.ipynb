{
  "nbformat": 4,
  "nbformat_minor": 0,
  "metadata": {
    "colab": {
      "name": "Domestic violence.ipynb",
      "provenance": [],
      "collapsed_sections": [],
      "toc_visible": true,
      "include_colab_link": true
    },
    "kernelspec": {
      "name": "python3",
      "display_name": "Python 3"
    }
  },
  "cells": [
    {
      "cell_type": "markdown",
      "metadata": {
        "id": "view-in-github",
        "colab_type": "text"
      },
      "source": [
        "<a href=\"https://colab.research.google.com/github/Ohmeka/domestic-violence-in-kyrgyzstan/blob/main/Domestic_violence.ipynb\" target=\"_parent\"><img src=\"https://colab.research.google.com/assets/colab-badge.svg\" alt=\"Open In Colab\"/></a>"
      ]
    },
    {
      "cell_type": "markdown",
      "metadata": {
        "id": "nPvDIyhVLqaN"
      },
      "source": [
        "## **Literature review / Обзор литературы**\n",
        "\n",
        "*Analytics / Аналитические отчеты:*\n",
        "\n",
        "Hillary Margolis. 2015. “Call Me When He Tries to Kill You: State Response to Domestic Violence in Kyrgyzstan.” https://www.hrw.org/report/2015/10/28/call-me-when-he-tries-kill-you/state-response-domestic-violence-kyrgyzstan.\n",
        "\n",
        "Рада Валентина кызы. 2018. “Новый Закон Против Домашнего Насилия — Что Изменилось Спустя Год После Его Принятия?” Kloop.Kg. June 3, 2018. https://kloop.kg/blog/2018/06/03/novyj-zakon-protiv-domashnego-nasiliya-chto-izmenilos-spustya-god-posle-ego-prinyatiya/.\n",
        "\n",
        "*Cases / Примеры частных случаев:*\n",
        "\n",
        "Kaktus Media. 2020. “Мужчина истязал жену, повесив ей на шею покрышки и обливая холодной водой (видео)” Kaktus.Media. June 12, 2020\n",
        "https://kaktus.media/doc/414974_myjchina_istiazal_jeny_povesiv_ey_na_sheu_pokryshki_i_oblivaia_holodnoy_vodoy_video.html\n",
        "\n",
        "Kaktus Media. 2020. “\"Пинал по голове, кипяток\". Вынесен приговор мужчине, жестоко убившему жену.” Kaktus.Media. June 12, 2020. \n",
        "https://kaktus.media/doc/414732_pinal_po_golove_vylil_kipiatok._vynesen_prigovor_myjchine_jestoko_ybivshemy_jeny.html\n",
        "\n",
        "Kaktus Media. 2020. “В Караколе Мужчина Облил Бензином и Поджег Свою Жену.” Kaktus.Media. January 9, 2020. https://kaktus.media/doc/403907_v_karakole_myjchina_oblil_benzinom_i_podjeg_svou_jeny.html. \n",
        "\n",
        "Аида ДЖУМАШОВА. 2020. “Опять Семейное Насилие. В Городе Ош Ревнивый Муж Сбил и Протащил Жену На Машине » Происшествия » Www.24.Kg - КЫРГЫЗСТАН.” 24.Kg. February 18, 2020. \n",
        "https://24.kg/proisshestvija/144031_opyat_semeynoe_nasilie_vnbspgorodenbsposh_revnivyiy_muj_sbil_inbspprotaschil_jenu_nanbspmashine/.\n",
        "\n",
        "Айдай Иргебаева. 2020. “За Первую Неделю Января Две Женщины Скончались После Того, Как Их Избили Мужья.” Kloop.Kg. January 7, 2020. \n",
        "https://kloop.kg/blog/2020/01/07/za-pervuyu-nedelyu-yanvarya-dve-zhenshhiny-skonchalis-posle-togo-kak-iz-izbili-muzhya/.\n",
        "\n",
        "Мундузбек Калыков. 2020. “Мужчина Облил Жену Бензином и Заставил Готовить Ему На Газе. Она Умерла От Полученных Ожогов.” Kloop.Kg. February 28, 2020. https://kloop.kg/blog/2020/02/28/muzhchina-oblil-zhenu-benzinom-i-zastavil-gotovit-emu-na-gaze-ona-umerla-ot-poluchennyh-ozhogov/?fbclid=IwAR3Ao4iflkPVtEGjBXA0PBy2KgzoyFf0yyLR8ybBYMOk0XzP1u58SFliIgk.\n",
        "\n",
        "*Data used / Использованные данные:*\n",
        " \n",
        "Охранный ордер МВД 2019 https://mvd.gov.kg/gendernaya-politika.html\n",
        "\n",
        "Национальный статистический комитет Кыргызской Республики 2020 http://www.stat.kg/ru/publications/sbornik-zhenshiny-i-muzhchiny-kyrgyzskoj-respubliki/\n",
        "\n",
        "Савия Хасанова, Анна Капушенко. 2020. При поддержке фонда Сорос-Кыргызстан. \"Генеральная прокуратура КР по запросу в рамках исследования: Фемицид: кто и как убивает женщин в Кыргызстане\". \n"
      ]
    },
    {
      "cell_type": "markdown",
      "metadata": {
        "id": "MtyrJEDMLfq5"
      },
      "source": [
        "## **Overview**\n",
        "\n",
        "This research uses the data from the Ministry of Internal Affairs and the National Statistics Committee to evaluate how police in Kyrgyzstan are handling a domestic violence before and after the change in legislation in 2017. The selected indicators are based on the literature review, which includes analytical reports by Human Rights Watch, Stitching Justice Initiative, activists and experts input, and publicity available on the topic. The research follows how police handle a domestic violence incident, looking at each step in the process, from the registration of a complaint to the issue of a restraint order to prosecution of the case in court. The results of this analysis will identify on which stages the police fail to meet the standards set by the law, as well as the indicators could be used for the future assesment of the police's work on domestic violence cases. Furthermore, the results can be used for evaluation of the effectivness of future adopted polices on the given topic. \n",
        "\n",
        "The research looks at the following key steps of handling a domestic violence by police:\n",
        "1. registration of a complaint \n",
        "2. issue of a restraint order\n",
        "3. opening of an investigation\n",
        "\n",
        "There is no explicit data on other vital steps. Parts of the process that include medical examination of victims, reformative training for abusers, relocation victims to shelters, further psychologial help, etc. only have partial data, and are not considered here. These are no recorded steps for how police should be enforcing the law.\n",
        "\n",
        "The data from the Ministry of Internal Affairs (mvd_data) is from 2019. All other data, including the data on crisis centers, is from 2018. There is no available data for 2019 at the moment.\n",
        "\n",
        "## **Обзор**\n",
        "\n",
        "В этом исследовании использованы данные Министерства Внутренних Дел и Национального Статистического Комитета для оценки деятельности полиции в Кыргызстане при работе с домашним насилием. Выбор индикаторов основан на обзоре литературы, включая аналитические отчеты Human Rights Watch, Stitching Justice Initiative, мнения активистов и экспертов, а также тематические публикации. Исследование рассматривает как полиция реагирует на случаи домашнего насилия на каждом этапе от регистрации жалобы до передачи дела в суд. Результаты анализа показывают на каких этапах полиция не соблюдает стандарты, установленные законом. В конечном итоге, данное исследование может быть использовано для оценки эффективности принятых законов и актов.\n",
        "\n",
        "В исследовании рассматриваются следующие ключевые этапы работы милиции при обработке случаев домашнего насилия:\n",
        "1. оформление жалобы\n",
        "2. выписка охранного ордера\n",
        "3. расследование нарушений \n",
        "\n",
        "По остальным важным этапам конкретных данных нет. Части процесса обработки случаев домашнего насилия, которые включают: медицинское обследование жертв, переобучение преступников, перемещение жертв в приюты, дальнейшую психологическую помощь, - имеют только частичные данные. Эти этапы также здесь не рассматриваются, поскольку не релевантны для оценки реакции милиции.\n",
        "\n",
        "Данные МВД (mvd_data) за 2019 год. Все остальные данные, включая данные по кризисным центрам, за 2018 год. На данный момент данных за 2019 год по этим показателям нет."
      ]
    },
    {
      "cell_type": "code",
      "metadata": {
        "id": "q1EWRsn36L0Y",
        "colab": {
          "base_uri": "https://localhost:8080/",
          "height": 733
        },
        "outputId": "5eeb505c-7e0e-4407-ade5-2554880a433a"
      },
      "source": [
        "import pandas as pd\n",
        "import numpy as np\n",
        "\n",
        "mvd_data_url = 'https://github.com/Ohmeka/mvd_data2019/blob/master/dekabr%20(12).xlsx?raw=true'\n",
        "\n",
        "mvd_data = pd.read_excel(mvd_data_url, sheet_name='раздел 1')\n",
        "\n",
        "mvd_data"
      ],
      "execution_count": 3,
      "outputs": [
        {
          "output_type": "execute_result",
          "data": {
            "text/html": [
              "<div>\n",
              "<style scoped>\n",
              "    .dataframe tbody tr th:only-of-type {\n",
              "        vertical-align: middle;\n",
              "    }\n",
              "\n",
              "    .dataframe tbody tr th {\n",
              "        vertical-align: top;\n",
              "    }\n",
              "\n",
              "    .dataframe thead th {\n",
              "        text-align: right;\n",
              "    }\n",
              "</style>\n",
              "<table border=\"1\" class=\"dataframe\">\n",
              "  <thead>\n",
              "    <tr style=\"text-align: right;\">\n",
              "      <th></th>\n",
              "      <th>Область // REGION</th>\n",
              "      <th>Код стро-ки// CODE</th>\n",
              "      <th>Зарегистри-ровано случаев семейного насилия // REGISTERED CASES</th>\n",
              "      <th>физи-ческое// PHYSICAL</th>\n",
              "      <th>психо-логи-ческое// PSYCHOLOGICAL</th>\n",
              "      <th>сек-суаль-ное// SEXUAL</th>\n",
              "      <th>экономическое// ECONOMICAL</th>\n",
              "      <th>пренебре-жительное отношение// NEGLIGENCE</th>\n",
              "      <th>Всего выдано охранных ордеров, единиц// RESTRAINT ORDERS ISSUED</th>\n",
              "      <th>в . ч. продлен-ные охранные ордера// PROLONGED RESTRAINT ORDERS</th>\n",
              "      <th>Возбуждено уголовных дел вследствие семей-ного насилия, единиц// CRIMINAL CASES</th>\n",
              "      <th>Зарегистировано простуков вследствии семейного насилия единиц// CIVIL CASES</th>\n",
              "      <th>насилие в семье             ст. 75// DOMESTIC VIOLENCE</th>\n",
              "      <th>неисполнение условий временного охранного ордера             ст. 76// DISOBEDIENCE TO A RESTRAINT ORDER</th>\n",
              "      <th>Побои         ст.65// BEATING</th>\n",
              "      <th>причинение легкого вреда здоровью ст.66// LIGHT BODY HARM</th>\n",
              "      <th>причинение менее тяжкого вреда здоровью по неосторожности  ст.67// NOT HEAVY UNINTENTIONAL BODY HARM</th>\n",
              "      <th>мелкое хулиган-ство ст.119// DISORDERLY CONDUCT</th>\n",
              "      <th>прочие статьи// OTHER</th>\n",
              "      <th>Уклонение от родительских обязанностей Кодекс о нарушений статья 61 // Evasion of parental obligations Code of violations</th>\n",
              "    </tr>\n",
              "  </thead>\n",
              "  <tbody>\n",
              "    <tr>\n",
              "      <th>0</th>\n",
              "      <td>Кыргыз Республикасы// KYRGYZSTAN</td>\n",
              "      <td>1.0</td>\n",
              "      <td>6145.0</td>\n",
              "      <td>4194.0</td>\n",
              "      <td>1688.0</td>\n",
              "      <td>8.0</td>\n",
              "      <td>1.0</td>\n",
              "      <td>254.0</td>\n",
              "      <td>5355.0</td>\n",
              "      <td>790.0</td>\n",
              "      <td>649.0</td>\n",
              "      <td>7045</td>\n",
              "      <td>4983.0</td>\n",
              "      <td>18.0</td>\n",
              "      <td>438.0</td>\n",
              "      <td>287.0</td>\n",
              "      <td>95.0</td>\n",
              "      <td>833.0</td>\n",
              "      <td>391.0</td>\n",
              "      <td>129.0</td>\n",
              "    </tr>\n",
              "    <tr>\n",
              "      <th>1</th>\n",
              "      <td>Бишкек ш.// BISHKEK CITY</td>\n",
              "      <td>2.0</td>\n",
              "      <td>1654.0</td>\n",
              "      <td>942.0</td>\n",
              "      <td>540.0</td>\n",
              "      <td>NaN</td>\n",
              "      <td>NaN</td>\n",
              "      <td>172.0</td>\n",
              "      <td>1557.0</td>\n",
              "      <td>97.0</td>\n",
              "      <td>41.0</td>\n",
              "      <td>2965</td>\n",
              "      <td>2092.0</td>\n",
              "      <td>13.0</td>\n",
              "      <td>244.0</td>\n",
              "      <td>45.0</td>\n",
              "      <td>80.0</td>\n",
              "      <td>429.0</td>\n",
              "      <td>62.0</td>\n",
              "      <td>13.0</td>\n",
              "    </tr>\n",
              "    <tr>\n",
              "      <th>2</th>\n",
              "      <td>Ош ш.// OSH CITY</td>\n",
              "      <td>3.0</td>\n",
              "      <td>316.0</td>\n",
              "      <td>316.0</td>\n",
              "      <td>NaN</td>\n",
              "      <td>NaN</td>\n",
              "      <td>NaN</td>\n",
              "      <td>NaN</td>\n",
              "      <td>316.0</td>\n",
              "      <td>NaN</td>\n",
              "      <td>6.0</td>\n",
              "      <td>1</td>\n",
              "      <td>NaN</td>\n",
              "      <td>NaN</td>\n",
              "      <td>NaN</td>\n",
              "      <td>NaN</td>\n",
              "      <td>NaN</td>\n",
              "      <td>NaN</td>\n",
              "      <td>1.0</td>\n",
              "      <td>NaN</td>\n",
              "    </tr>\n",
              "    <tr>\n",
              "      <th>3</th>\n",
              "      <td>Чүй облусу// CHUI</td>\n",
              "      <td>4.0</td>\n",
              "      <td>1429.0</td>\n",
              "      <td>751.0</td>\n",
              "      <td>595.0</td>\n",
              "      <td>2.0</td>\n",
              "      <td>NaN</td>\n",
              "      <td>81.0</td>\n",
              "      <td>798.0</td>\n",
              "      <td>631.0</td>\n",
              "      <td>155.0</td>\n",
              "      <td>1412</td>\n",
              "      <td>917.0</td>\n",
              "      <td>2.0</td>\n",
              "      <td>81.0</td>\n",
              "      <td>81.0</td>\n",
              "      <td>NaN</td>\n",
              "      <td>173.0</td>\n",
              "      <td>158.0</td>\n",
              "      <td>NaN</td>\n",
              "    </tr>\n",
              "    <tr>\n",
              "      <th>4</th>\n",
              "      <td>Ы-Кѳл обл// ISSYK KUL</td>\n",
              "      <td>5.0</td>\n",
              "      <td>402.0</td>\n",
              "      <td>186.0</td>\n",
              "      <td>214.0</td>\n",
              "      <td>2.0</td>\n",
              "      <td>NaN</td>\n",
              "      <td>NaN</td>\n",
              "      <td>399.0</td>\n",
              "      <td>3.0</td>\n",
              "      <td>57.0</td>\n",
              "      <td>413</td>\n",
              "      <td>276.0</td>\n",
              "      <td>NaN</td>\n",
              "      <td>42.0</td>\n",
              "      <td>38.0</td>\n",
              "      <td>NaN</td>\n",
              "      <td>51.0</td>\n",
              "      <td>6.0</td>\n",
              "      <td>NaN</td>\n",
              "    </tr>\n",
              "    <tr>\n",
              "      <th>5</th>\n",
              "      <td>Нарын облусу// NARYN</td>\n",
              "      <td>6.0</td>\n",
              "      <td>372.0</td>\n",
              "      <td>196.0</td>\n",
              "      <td>176.0</td>\n",
              "      <td>NaN</td>\n",
              "      <td>NaN</td>\n",
              "      <td>NaN</td>\n",
              "      <td>316.0</td>\n",
              "      <td>56.0</td>\n",
              "      <td>103.0</td>\n",
              "      <td>333</td>\n",
              "      <td>271.0</td>\n",
              "      <td>1.0</td>\n",
              "      <td>13.0</td>\n",
              "      <td>7.0</td>\n",
              "      <td>NaN</td>\n",
              "      <td>38.0</td>\n",
              "      <td>3.0</td>\n",
              "      <td>NaN</td>\n",
              "    </tr>\n",
              "    <tr>\n",
              "      <th>6</th>\n",
              "      <td>Ош облусу// OSH REG.</td>\n",
              "      <td>7.0</td>\n",
              "      <td>796.0</td>\n",
              "      <td>766.0</td>\n",
              "      <td>26.0</td>\n",
              "      <td>3.0</td>\n",
              "      <td>1.0</td>\n",
              "      <td>NaN</td>\n",
              "      <td>795.0</td>\n",
              "      <td>1.0</td>\n",
              "      <td>174.0</td>\n",
              "      <td>791</td>\n",
              "      <td>601.0</td>\n",
              "      <td>NaN</td>\n",
              "      <td>NaN</td>\n",
              "      <td>NaN</td>\n",
              "      <td>NaN</td>\n",
              "      <td>53.0</td>\n",
              "      <td>137.0</td>\n",
              "      <td>NaN</td>\n",
              "    </tr>\n",
              "    <tr>\n",
              "      <th>7</th>\n",
              "      <td>Ж-Абад обл// JALAL ABAD</td>\n",
              "      <td>8.0</td>\n",
              "      <td>777.0</td>\n",
              "      <td>698.0</td>\n",
              "      <td>77.0</td>\n",
              "      <td>1.0</td>\n",
              "      <td>NaN</td>\n",
              "      <td>1.0</td>\n",
              "      <td>775.0</td>\n",
              "      <td>2.0</td>\n",
              "      <td>18.0</td>\n",
              "      <td>717</td>\n",
              "      <td>589.0</td>\n",
              "      <td>NaN</td>\n",
              "      <td>22.0</td>\n",
              "      <td>50.0</td>\n",
              "      <td>NaN</td>\n",
              "      <td>50.0</td>\n",
              "      <td>6.0</td>\n",
              "      <td>116.0</td>\n",
              "    </tr>\n",
              "    <tr>\n",
              "      <th>8</th>\n",
              "      <td>Талас облусу// TALAS</td>\n",
              "      <td>9.0</td>\n",
              "      <td>186.0</td>\n",
              "      <td>135.0</td>\n",
              "      <td>51.0</td>\n",
              "      <td>NaN</td>\n",
              "      <td>NaN</td>\n",
              "      <td>NaN</td>\n",
              "      <td>186.0</td>\n",
              "      <td>NaN</td>\n",
              "      <td>4.0</td>\n",
              "      <td>197</td>\n",
              "      <td>101.0</td>\n",
              "      <td>NaN</td>\n",
              "      <td>35.0</td>\n",
              "      <td>31.0</td>\n",
              "      <td>12.0</td>\n",
              "      <td>17.0</td>\n",
              "      <td>1.0</td>\n",
              "      <td>NaN</td>\n",
              "    </tr>\n",
              "    <tr>\n",
              "      <th>9</th>\n",
              "      <td>Баткен облусу// BATKEN</td>\n",
              "      <td>10.0</td>\n",
              "      <td>213.0</td>\n",
              "      <td>204.0</td>\n",
              "      <td>9.0</td>\n",
              "      <td>NaN</td>\n",
              "      <td>NaN</td>\n",
              "      <td>NaN</td>\n",
              "      <td>213.0</td>\n",
              "      <td>NaN</td>\n",
              "      <td>91.0</td>\n",
              "      <td>216</td>\n",
              "      <td>136.0</td>\n",
              "      <td>2.0</td>\n",
              "      <td>1.0</td>\n",
              "      <td>35.0</td>\n",
              "      <td>3.0</td>\n",
              "      <td>22.0</td>\n",
              "      <td>17.0</td>\n",
              "      <td>NaN</td>\n",
              "    </tr>\n",
              "    <tr>\n",
              "      <th>10</th>\n",
              "      <td>NaN</td>\n",
              "      <td>NaN</td>\n",
              "      <td>NaN</td>\n",
              "      <td>NaN</td>\n",
              "      <td>NaN</td>\n",
              "      <td>NaN</td>\n",
              "      <td>NaN</td>\n",
              "      <td>NaN</td>\n",
              "      <td>NaN</td>\n",
              "      <td>NaN</td>\n",
              "      <td>NaN</td>\n",
              "      <td>NaN</td>\n",
              "      <td>NaN</td>\n",
              "      <td>NaN</td>\n",
              "      <td>NaN</td>\n",
              "      <td>NaN</td>\n",
              "      <td>NaN</td>\n",
              "      <td>NaN</td>\n",
              "      <td>NaN</td>\n",
              "      <td>NaN</td>\n",
              "    </tr>\n",
              "    <tr>\n",
              "      <th>11</th>\n",
              "      <td>NaN</td>\n",
              "      <td>NaN</td>\n",
              "      <td>NaN</td>\n",
              "      <td>NaN</td>\n",
              "      <td>NaN</td>\n",
              "      <td>NaN</td>\n",
              "      <td>NaN</td>\n",
              "      <td>NaN</td>\n",
              "      <td>NaN</td>\n",
              "      <td>NaN</td>\n",
              "      <td>NaN</td>\n",
              "      <td>...</td>\n",
              "      <td>NaN</td>\n",
              "      <td>NaN</td>\n",
              "      <td>NaN</td>\n",
              "      <td>NaN</td>\n",
              "      <td>NaN</td>\n",
              "      <td>NaN</td>\n",
              "      <td>NaN</td>\n",
              "      <td>NaN</td>\n",
              "    </tr>\n",
              "  </tbody>\n",
              "</table>\n",
              "</div>"
            ],
            "text/plain": [
              "                  Область // REGION   ...  Уклонение от родительских обязанностей Кодекс о нарушений статья 61 // Evasion of parental obligations Code of violations \n",
              "0   Кыргыз Республикасы// KYRGYZSTAN  ...                                              129.0                                                                         \n",
              "1           Бишкек ш.// BISHKEK CITY  ...                                               13.0                                                                         \n",
              "2                   Ош ш.// OSH CITY  ...                                                NaN                                                                         \n",
              "3                  Чүй облусу// CHUI  ...                                                NaN                                                                         \n",
              "4              Ы-Кѳл обл// ISSYK KUL  ...                                                NaN                                                                         \n",
              "5               Нарын облусу// NARYN  ...                                                NaN                                                                         \n",
              "6               Ош облусу// OSH REG.  ...                                                NaN                                                                         \n",
              "7            Ж-Абад обл// JALAL ABAD  ...                                              116.0                                                                         \n",
              "8               Талас облусу// TALAS  ...                                                NaN                                                                         \n",
              "9             Баткен облусу// BATKEN  ...                                                NaN                                                                         \n",
              "10                               NaN  ...                                                NaN                                                                         \n",
              "11                               NaN  ...                                                NaN                                                                         \n",
              "\n",
              "[12 rows x 20 columns]"
            ]
          },
          "metadata": {
            "tags": []
          },
          "execution_count": 3
        }
      ]
    },
    {
      "cell_type": "code",
      "metadata": {
        "id": "3FVoqDN2c0ch"
      },
      "source": [
        "\n"
      ],
      "execution_count": 3,
      "outputs": []
    },
    {
      "cell_type": "code",
      "metadata": {
        "id": "bWn9mGIewzP0",
        "colab": {
          "base_uri": "https://localhost:8080/",
          "height": 248
        },
        "outputId": "3f6cfe18-c64f-49df-92c6-829dedf5e39e"
      },
      "source": [
        "nsc_data = pd.read_excel('Нацстатком.xlsx')\n",
        "pd.DataFrame.transpose(nsc_data)\n",
        "#nsc_data.drop(columns ='Таблица 7.13: Число фактов семейного насилия и принятых мер по ним', inplace=True, errors='raise')\n",
        "nsc_data\n",
        "#pd.DataFrame.transpose(nsc_data)\n"
      ],
      "execution_count": 60,
      "outputs": [
        {
          "output_type": "execute_result",
          "data": {
            "text/html": [
              "<div>\n",
              "<style scoped>\n",
              "    .dataframe tbody tr th:only-of-type {\n",
              "        vertical-align: middle;\n",
              "    }\n",
              "\n",
              "    .dataframe tbody tr th {\n",
              "        vertical-align: top;\n",
              "    }\n",
              "\n",
              "    .dataframe thead th {\n",
              "        text-align: right;\n",
              "    }\n",
              "</style>\n",
              "<table border=\"1\" class=\"dataframe\">\n",
              "  <thead>\n",
              "    <tr style=\"text-align: right;\">\n",
              "      <th></th>\n",
              "      <th>Unnamed: 0</th>\n",
              "      <th>2015</th>\n",
              "      <th>2016</th>\n",
              "      <th>2017</th>\n",
              "      <th>2018</th>\n",
              "      <th>2019</th>\n",
              "    </tr>\n",
              "  </thead>\n",
              "  <tbody>\n",
              "    <tr>\n",
              "      <th>0</th>\n",
              "      <td>Итого</td>\n",
              "      <td>3 524</td>\n",
              "      <td>7 053</td>\n",
              "      <td>7 333</td>\n",
              "      <td>7 178</td>\n",
              "      <td>6 145</td>\n",
              "    </tr>\n",
              "    <tr>\n",
              "      <th>1</th>\n",
              "      <td>в том числе по видам насилия:</td>\n",
              "      <td>NaN</td>\n",
              "      <td>NaN</td>\n",
              "      <td>NaN</td>\n",
              "      <td>NaN</td>\n",
              "      <td>NaN</td>\n",
              "    </tr>\n",
              "    <tr>\n",
              "      <th>2</th>\n",
              "      <td>физическое</td>\n",
              "      <td>2 675</td>\n",
              "      <td>4 846</td>\n",
              "      <td>4 827</td>\n",
              "      <td>4 135</td>\n",
              "      <td>4 194</td>\n",
              "    </tr>\n",
              "    <tr>\n",
              "      <th>3</th>\n",
              "      <td>психологическое</td>\n",
              "      <td>840</td>\n",
              "      <td>2 204</td>\n",
              "      <td>2 502</td>\n",
              "      <td>2 819</td>\n",
              "      <td>1 688</td>\n",
              "    </tr>\n",
              "    <tr>\n",
              "      <th>4</th>\n",
              "      <td>сексуальное</td>\n",
              "      <td>9</td>\n",
              "      <td>3</td>\n",
              "      <td>4</td>\n",
              "      <td>1</td>\n",
              "      <td>8</td>\n",
              "    </tr>\n",
              "    <tr>\n",
              "      <th>5</th>\n",
              "      <td>Число выданных охранных ордеров, единиц</td>\n",
              "      <td>3358</td>\n",
              "      <td>6 966</td>\n",
              "      <td>7 323</td>\n",
              "      <td>7 114</td>\n",
              "      <td>5 355</td>\n",
              "    </tr>\n",
              "    <tr>\n",
              "      <th>6</th>\n",
              "      <td>Число рассмотренных уголовных дел вследствие с...</td>\n",
              "      <td>238</td>\n",
              "      <td>199</td>\n",
              "      <td>218</td>\n",
              "      <td>369</td>\n",
              "      <td>649</td>\n",
              "    </tr>\n",
              "  </tbody>\n",
              "</table>\n",
              "</div>"
            ],
            "text/plain": [
              "                                          Unnamed: 0   2015  ...   2018   2019\n",
              "0                                              Итого  3 524  ...  7 178  6 145\n",
              "1                      в том числе по видам насилия:    NaN  ...    NaN    NaN\n",
              "2                                         физическое  2 675  ...  4 135  4 194\n",
              "3                                    психологическое    840  ...  2 819  1 688\n",
              "4                                        сексуальное      9  ...      1      8\n",
              "5            Число выданных охранных ордеров, единиц   3358  ...  7 114  5 355\n",
              "6  Число рассмотренных уголовных дел вследствие с...    238  ...    369    649\n",
              "\n",
              "[7 rows x 6 columns]"
            ]
          },
          "metadata": {
            "tags": []
          },
          "execution_count": 60
        }
      ]
    },
    {
      "cell_type": "code",
      "metadata": {
        "id": "Llu-c9MakQDC"
      },
      "source": [
        ""
      ],
      "execution_count": null,
      "outputs": []
    },
    {
      "cell_type": "code",
      "metadata": {
        "id": "Rkhn-yeXe0xC"
      },
      "source": [
        "import matplotlib.pyplot as plt\n",
        "import seaborn as sns\n",
        "\n",
        "import matplotlib.mlab as mlab\n",
        "import matplotlib\n",
        "plt.style.use('ggplot')\n",
        "from matplotlib.pyplot import figure\n",
        "%matplotlib inline"
      ],
      "execution_count": 61,
      "outputs": []
    },
    {
      "cell_type": "code",
      "metadata": {
        "id": "GTeY5BufmY5f",
        "colab": {
          "base_uri": "https://localhost:8080/",
          "height": 220
        },
        "outputId": "e4391ea3-19b0-4493-81ec-2d83138c277d"
      },
      "source": [
        "#nsc_data.drop(columns='Unnamed: 0', inplace=False, errors='raise')\n",
        "\n",
        "nsc_data[:1]\n",
        "\n",
        "new_nsc_data = np.transpose(nsc_data[:1])\n",
        "new_nsc_data\n",
        "\n",
        "#nsc_data"
      ],
      "execution_count": 62,
      "outputs": [
        {
          "output_type": "execute_result",
          "data": {
            "text/html": [
              "<div>\n",
              "<style scoped>\n",
              "    .dataframe tbody tr th:only-of-type {\n",
              "        vertical-align: middle;\n",
              "    }\n",
              "\n",
              "    .dataframe tbody tr th {\n",
              "        vertical-align: top;\n",
              "    }\n",
              "\n",
              "    .dataframe thead th {\n",
              "        text-align: right;\n",
              "    }\n",
              "</style>\n",
              "<table border=\"1\" class=\"dataframe\">\n",
              "  <thead>\n",
              "    <tr style=\"text-align: right;\">\n",
              "      <th></th>\n",
              "      <th>0</th>\n",
              "    </tr>\n",
              "  </thead>\n",
              "  <tbody>\n",
              "    <tr>\n",
              "      <th>Unnamed: 0</th>\n",
              "      <td>Итого</td>\n",
              "    </tr>\n",
              "    <tr>\n",
              "      <th>2015</th>\n",
              "      <td>3 524</td>\n",
              "    </tr>\n",
              "    <tr>\n",
              "      <th>2016</th>\n",
              "      <td>7 053</td>\n",
              "    </tr>\n",
              "    <tr>\n",
              "      <th>2017</th>\n",
              "      <td>7 333</td>\n",
              "    </tr>\n",
              "    <tr>\n",
              "      <th>2018</th>\n",
              "      <td>7 178</td>\n",
              "    </tr>\n",
              "    <tr>\n",
              "      <th>2019</th>\n",
              "      <td>6 145</td>\n",
              "    </tr>\n",
              "  </tbody>\n",
              "</table>\n",
              "</div>"
            ],
            "text/plain": [
              "                0\n",
              "Unnamed: 0  Итого\n",
              "2015        3 524\n",
              "2016        7 053\n",
              "2017        7 333\n",
              "2018        7 178\n",
              "2019        6 145"
            ]
          },
          "metadata": {
            "tags": []
          },
          "execution_count": 62
        }
      ]
    },
    {
      "cell_type": "code",
      "metadata": {
        "colab": {
          "base_uri": "https://localhost:8080/",
          "height": 297
        },
        "id": "8cx72BqikDLy",
        "outputId": "7d13341e-9e9a-44d5-a129-75cb06c0182f"
      },
      "source": [
        "labels = ['2015', '2016', '2017', '2018', '2019']\n",
        "cases = np.array([3524, 7053, 7333, 7178, 6145])\n",
        "rest_orders = np.array([3358, 6966, 7323, 7114, 5355])\n",
        "investigations = np.array([238, 199, 218, 369, 649])\n",
        "\n",
        "fig, ax = plt.subplots()\n",
        "# Add some text for labels, title and custom x-axis tick labels, etc.\n",
        "ax.set_ylabel('Cases')\n",
        "ax.set_xlabel('Year')\n",
        "ax.set_title('Cases of domestic violence')\n",
        "x = np.arange(len(labels)) \n",
        "ax.set_xticks(x)\n",
        "ax.set_xticklabels(labels)\n",
        "\n",
        "\n",
        " # the label locations\n",
        "width = 0.3  # the width of the bars\n",
        "rects1 = ax.bar(x - width/2, cases, width, label='cases')\n",
        "rects2 = ax.bar(x + width/2, rest_orders, width, label='restraining orders')\n",
        "rects3 = ax.bar(x + 3/2 * width, investigations, width, label='investigations')\n",
        "\n",
        "\n",
        "def create_bar_chart(rects):\n",
        "    for rect in rects:\n",
        "        height = rect.get_height()\n",
        "        ax.annotate('{}'.format(height),\n",
        "                    xy=(rect.get_x() + rect.get_width() / 2, height),\n",
        "                    xytext=(0, 3),  # 3 points vertical offset\n",
        "                    textcoords=\"offset points\",\n",
        "                    ha='center', va='bottom')\n",
        "\n",
        "\n",
        "create_bar_chart(rects1)\n",
        "create_bar_chart(rects2)\n",
        "create_bar_chart(rects3)\n",
        "ax.legend()\n",
        "fig.tight_layout()\n",
        "plt.show()\n",
        "\n",
        "# plt.hist(arr)"
      ],
      "execution_count": 63,
      "outputs": [
        {
          "output_type": "display_data",
          "data": {
            "image/png": "[encoded data removed]",
            "text/plain": [
              "<Figure size 432x288 with 1 Axes>"
            ]
          },
          "metadata": {
            "tags": [],
            "needs_background": "light"
          }
        }
      ]
    },
    {
      "cell_type": "code",
      "metadata": {
        "colab": {
          "base_uri": "https://localhost:8080/",
          "height": 297
        },
        "id": "CcnQE_Pn_QAl",
        "outputId": "a8eac526-ed13-4488-daa6-55f0e4b7c657"
      },
      "source": [
        "labels = ['2012', '2013', '2014', '2015', '2016', '2017', '2018', '2019']\n",
        "scrapped_news_murder_cases = np.array([10, 10, 8, 23, 11, 16, 11, 12])\n",
        "mia_murder_cases = np.array([4, 1, 4, 12, 6, 4, 4,\t4])\n",
        "\n",
        "fig, ax = plt.subplots()\n",
        "# Add some text for labels, title and custom x-axis tick labels, etc.\n",
        "ax.set_ylabel('Cases')\n",
        "ax.set_ylabel('Year')\n",
        "ax.set_title('Murders')\n",
        "ax.set_xticks(x)\n",
        "ax.set_xticklabels(labels)\n",
        "\n",
        "\n",
        "x = np.arange(len(labels))  # the label locations\n",
        "width = 0.3  # the width of the bars\n",
        "rects1 = ax.bar(x - width/2, scrapped_news_murder_cases, width, label='News data')\n",
        "rects2 = ax.bar(x + width/2, mia_murder_cases, width, label='MIA data')\n",
        "\n",
        "\n",
        "def create_bar_chart(rects):\n",
        "    for rect in rects:\n",
        "        height = rect.get_height()\n",
        "        ax.annotate('{}'.format(height),\n",
        "                    xy=(rect.get_x() + rect.get_width() / 2, height),\n",
        "                    xytext=(0, 3),  # 3 points vertical offset\n",
        "                    textcoords=\"offset points\",\n",
        "                    ha='center', va='bottom')\n",
        "\n",
        "\n",
        "create_bar_chart(rects1)\n",
        "create_bar_chart(rects2)\n",
        "\n",
        "ax.legend()\n",
        "fig.tight_layout()\n",
        "plt.show()\n",
        "\n",
        "# plt.hist(arr)"
      ],
      "execution_count": 121,
      "outputs": [
        {
          "output_type": "display_data",
          "data": {
            "image/png": "[encoded data removed]",
            "text/plain": [
              "<Figure size 432x288 with 1 Axes>"
            ]
          },
          "metadata": {
            "tags": [],
            "needs_background": "light"
          }
        }
      ]
    },
    {
      "cell_type": "markdown",
      "metadata": {
        "id": "R-2whyU-xQBs"
      },
      "source": [
        "From the scrapped data I extracted only the cases where a murder has been commited by a family member, an intimate partner, a former partner or a relative. And compared it against the number of investigations on the basis of murder basis by the M.I.A. Often if a victim dies a few days later in a hospital, the abuser gets procecuted under laws on serious and minor injury, and the cause of death for the victim gets written off as ‘due to natural causes’ (S.Hasanova, A.Kapushenko, 2020).      "
      ]
    },
    {
      "cell_type": "code",
      "metadata": {
        "id": "t9VnPsx8RMbU"
      },
      "source": [
        "mia = (mia_murder_cases - min(mia_murder_cases)) / (max(mia_murder_cases) - min(mia_murder_cases))\n",
        "scraped = (scrapped_news_murder_cases - min(scrapped_news_murder_cases)) / (max(scrapped_news_murder_cases) - min(scrapped_news_murder_cases))"
      ],
      "execution_count": 65,
      "outputs": []
    },
    {
      "cell_type": "code",
      "metadata": {
        "colab": {
          "base_uri": "https://localhost:8080/"
        },
        "id": "JnagQHRJo1_A",
        "outputId": "26685def-5f7b-499d-d3b3-b216588161a2"
      },
      "source": [
        "from scipy import stats\n",
        "stats.ttest_ind(mia, scraped)"
      ],
      "execution_count": 70,
      "outputs": [
        {
          "output_type": "execute_result",
          "data": {
            "text/plain": [
              "Ttest_indResult(statistic=0.2887988257180071, pvalue=0.776967432720306)"
            ]
          },
          "metadata": {
            "tags": []
          },
          "execution_count": 70
        }
      ]
    },
    {
      "cell_type": "code",
      "metadata": {
        "colab": {
          "base_uri": "https://localhost:8080/"
        },
        "id": "p0tI15zkuH7z",
        "outputId": "332f4cf8-a282-4b4f-cfad-4fd241413022"
      },
      "source": [
        "stats.normaltest(scraped)\n",
        "stats.normaltest(mia)"
      ],
      "execution_count": 67,
      "outputs": [
        {
          "output_type": "stream",
          "text": [
            "/usr/local/lib/python3.6/dist-packages/scipy/stats/stats.py:1535: UserWarning: kurtosistest only valid for n>=20 ... continuing anyway, n=8\n",
            "  \"anyway, n=%i\" % int(n))\n"
          ],
          "name": "stderr"
        },
        {
          "output_type": "execute_result",
          "data": {
            "text/plain": [
              "NormaltestResult(statistic=10.666296199450358, pvalue=0.004828844375260977)"
            ]
          },
          "metadata": {
            "tags": []
          },
          "execution_count": 67
        }
      ]
    },
    {
      "cell_type": "code",
      "metadata": {
        "colab": {
          "base_uri": "https://localhost:8080/"
        },
        "id": "9zIzvltjvTqn",
        "outputId": "995280c8-e7a0-4ce5-ad20-c8a66eedb211"
      },
      "source": [
        "print(\"Skewtest: file1 is \", stats.skewtest(scraped))\n",
        "print(\"Skewtest: file2 is \", stats.skewtest(mia))"
      ],
      "execution_count": 68,
      "outputs": [
        {
          "output_type": "stream",
          "text": [
            "Skewtest: file1 is  SkewtestResult(statistic=2.3172849161911784, pvalue=0.0204882164278674)\n",
            "Skewtest: file2 is  SkewtestResult(statistic=2.340003059764638, pvalue=0.01928358190599283)\n"
          ],
          "name": "stdout"
        }
      ]
    },
    {
      "cell_type": "code",
      "metadata": {
        "colab": {
          "base_uri": "https://localhost:8080/"
        },
        "id": "xilhWRJIo34W",
        "outputId": "bcfac2f1-3b31-4798-d69e-c1872f408e7f"
      },
      "source": [
        "stats.pearsonr(scraped, mia)"
      ],
      "execution_count": 69,
      "outputs": [
        {
          "output_type": "execute_result",
          "data": {
            "text/plain": [
              "(0.8231731878606967, 0.012054126149862877)"
            ]
          },
          "metadata": {
            "tags": []
          },
          "execution_count": 69
        }
      ]
    },
    {
      "cell_type": "code",
      "metadata": {
        "colab": {
          "base_uri": "https://localhost:8080/"
        },
        "id": "TEbRo-A9X-hn",
        "outputId": "b83f93e6-b442-49ad-9e6f-c7cf00af2834"
      },
      "source": [
        "# import packages\n",
        "\n",
        "matplotlib.rcParams['figure.figsize'] = (12,8)\n",
        "\n",
        "pd.options.mode.chained_assignment = None\n",
        "\n",
        "\n",
        "\n",
        "# read the data\n",
        "df = pd.read_csv('cleaned_akipress.csv')\n",
        "\n",
        "\n",
        "# shape and data types of the data\n",
        "print(df.shape)\n",
        "print(df.dtypes)\n",
        "\n",
        "# select non numeric columns\n",
        "df_non_numeric = df.select_dtypes(exclude=[np.number])\n",
        "non_numeric_cols = df_non_numeric.columns.values\n",
        "print(non_numeric_cols)"
      ],
      "execution_count": 9,
      "outputs": [
        {
          "output_type": "stream",
          "text": [
            "(54107, 6)\n",
            "link        object\n",
            "cat          int64\n",
            "page       float64\n",
            "text        object\n",
            "title       object\n",
            "checked      int64\n",
            "dtype: object\n",
            "['link' 'text' 'title']\n"
          ],
          "name": "stdout"
        }
      ]
    },
    {
      "cell_type": "code",
      "metadata": {
        "colab": {
          "base_uri": "https://localhost:8080/",
          "height": 391
        },
        "id": "PPHZeBjreIQR",
        "outputId": "ca4f992b-0bca-4e4e-b3c8-f064aa9f3c17"
      },
      "source": [
        "df"
      ],
      "execution_count": 10,
      "outputs": [
        {
          "output_type": "execute_result",
          "data": {
            "text/html": [
              "<div>\n",
              "<style scoped>\n",
              "    .dataframe tbody tr th:only-of-type {\n",
              "        vertical-align: middle;\n",
              "    }\n",
              "\n",
              "    .dataframe tbody tr th {\n",
              "        vertical-align: top;\n",
              "    }\n",
              "\n",
              "    .dataframe thead th {\n",
              "        text-align: right;\n",
              "    }\n",
              "</style>\n",
              "<table border=\"1\" class=\"dataframe\">\n",
              "  <thead>\n",
              "    <tr style=\"text-align: right;\">\n",
              "      <th></th>\n",
              "      <th>link</th>\n",
              "      <th>cat</th>\n",
              "      <th>page</th>\n",
              "      <th>text</th>\n",
              "      <th>title</th>\n",
              "      <th>checked</th>\n",
              "    </tr>\n",
              "  </thead>\n",
              "  <tbody>\n",
              "    <tr>\n",
              "      <th>0</th>\n",
              "      <td>//svodka.akipress.org/news:148522?from=svodka&amp;...</td>\n",
              "      <td>2</td>\n",
              "      <td>73.0</td>\n",
              "      <td>«сводка» (акиpress) –  в свердловском районном...</td>\n",
              "      <td>«побег из сизо-50»: за 5 минут до того, как я ...</td>\n",
              "      <td>1</td>\n",
              "    </tr>\n",
              "    <tr>\n",
              "      <th>1</th>\n",
              "      <td>//svodka.akipress.org/news:148521?from=svodka&amp;...</td>\n",
              "      <td>2</td>\n",
              "      <td>73.0</td>\n",
              "      <td>«сводка» (акиpress) –  в бишкекском городском ...</td>\n",
              "      <td>дело нарымбаева/коркмазова: на суде возникли п...</td>\n",
              "      <td>1</td>\n",
              "    </tr>\n",
              "    <tr>\n",
              "      <th>2</th>\n",
              "      <td>//svodka.akipress.org/news:148519?from=svodka&amp;...</td>\n",
              "      <td>2</td>\n",
              "      <td>73.0</td>\n",
              "      <td>«сводка» (акиpress) –  в свердловском районном...</td>\n",
              "      <td>«побег из сизо-50»: итибаев и кадыралиев могли...</td>\n",
              "      <td>1</td>\n",
              "    </tr>\n",
              "    <tr>\n",
              "      <th>3</th>\n",
              "      <td>//svodka.akipress.org/news:148515?from=svodka&amp;...</td>\n",
              "      <td>2</td>\n",
              "      <td>73.0</td>\n",
              "      <td>«сводка» (акиpress) –  в бишкекском городском ...</td>\n",
              "      <td>дело нарымбаева/коркмазова: о.текебаев выехал ...</td>\n",
              "      <td>1</td>\n",
              "    </tr>\n",
              "    <tr>\n",
              "      <th>4</th>\n",
              "      <td>//svodka.akipress.org/news:148517?from=svodka&amp;...</td>\n",
              "      <td>2</td>\n",
              "      <td>73.0</td>\n",
              "      <td>«сводка» (акиpress) –  в свердловском районном...</td>\n",
              "      <td>«побег из сизо-50»: а.итибаев потребовал отрем...</td>\n",
              "      <td>1</td>\n",
              "    </tr>\n",
              "    <tr>\n",
              "      <th>...</th>\n",
              "      <td>...</td>\n",
              "      <td>...</td>\n",
              "      <td>...</td>\n",
              "      <td>...</td>\n",
              "      <td>...</td>\n",
              "      <td>...</td>\n",
              "    </tr>\n",
              "    <tr>\n",
              "      <th>54102</th>\n",
              "      <td>//svodka.akipress.org/news:2898?from=svodka&amp;pl...</td>\n",
              "      <td>6</td>\n",
              "      <td>98.0</td>\n",
              "      <td>«сводка» (акиpress) –  в пригороде кызыл-кии (...</td>\n",
              "      <td>в кызыл-кие от отравления угарным газом в шахт...</td>\n",
              "      <td>1</td>\n",
              "    </tr>\n",
              "    <tr>\n",
              "      <th>54103</th>\n",
              "      <td>//svodka.akipress.org/news:2891?from=svodka&amp;pl...</td>\n",
              "      <td>6</td>\n",
              "      <td>98.0</td>\n",
              "      <td>«сводка» (акиpress) –  в бишкеке 30 ноября в 1...</td>\n",
              "      <td>сотрудниками милиции задержан водитель, скрывш...</td>\n",
              "      <td>1</td>\n",
              "    </tr>\n",
              "    <tr>\n",
              "      <th>54104</th>\n",
              "      <td>//svodka.akipress.org/news:2869?from=svodka&amp;pl...</td>\n",
              "      <td>6</td>\n",
              "      <td>98.0</td>\n",
              "      <td>«сводка» (акиpress) –  в ночь с 30 ноября на 1...</td>\n",
              "      <td>спасатели вытащили двух человек, заблокированн...</td>\n",
              "      <td>1</td>\n",
              "    </tr>\n",
              "    <tr>\n",
              "      <th>54105</th>\n",
              "      <td>//svodka.akipress.org/news:2850?from=svodka&amp;pl...</td>\n",
              "      <td>6</td>\n",
              "      <td>98.0</td>\n",
              "      <td>«сводка» (акиpress) –  из-за собственной беспе...</td>\n",
              "      <td>бишкекчанке ампутировали кисти рук после элект...</td>\n",
              "      <td>1</td>\n",
              "    </tr>\n",
              "    <tr>\n",
              "      <th>54106</th>\n",
              "      <td>//svodka.akipress.org/news:1473?from=svodka&amp;pl...</td>\n",
              "      <td>1</td>\n",
              "      <td>478.0</td>\n",
              "      <td>«сводка» (акиpress) –  сотрудники службы финан...</td>\n",
              "      <td>финполиция кр выявила факты незаконной торговл...</td>\n",
              "      <td>1</td>\n",
              "    </tr>\n",
              "  </tbody>\n",
              "</table>\n",
              "<p>54107 rows × 6 columns</p>\n",
              "</div>"
            ],
            "text/plain": [
              "                                                    link  ...  checked\n",
              "0      //svodka.akipress.org/news:148522?from=svodka&...  ...        1\n",
              "1      //svodka.akipress.org/news:148521?from=svodka&...  ...        1\n",
              "2      //svodka.akipress.org/news:148519?from=svodka&...  ...        1\n",
              "3      //svodka.akipress.org/news:148515?from=svodka&...  ...        1\n",
              "4      //svodka.akipress.org/news:148517?from=svodka&...  ...        1\n",
              "...                                                  ...  ...      ...\n",
              "54102  //svodka.akipress.org/news:2898?from=svodka&pl...  ...        1\n",
              "54103  //svodka.akipress.org/news:2891?from=svodka&pl...  ...        1\n",
              "54104  //svodka.akipress.org/news:2869?from=svodka&pl...  ...        1\n",
              "54105  //svodka.akipress.org/news:2850?from=svodka&pl...  ...        1\n",
              "54106  //svodka.akipress.org/news:1473?from=svodka&pl...  ...        1\n",
              "\n",
              "[54107 rows x 6 columns]"
            ]
          },
          "metadata": {
            "tags": []
          },
          "execution_count": 10
        }
      ]
    },
    {
      "cell_type": "code",
      "metadata": {
        "id": "fHGWujv7eoh6"
      },
      "source": [
        "cols = df.columns[:30] # first 30 columns\n",
        "colours = ['#000099', '#ffff00'] # specify the colours - yellow is missing. blue is not missing.\n",
        "sns.heatmap(df[cols].isnull(), cmap=sns.color_palette(colours))"
      ],
      "execution_count": null,
      "outputs": []
    },
    {
      "cell_type": "code",
      "metadata": {
        "colab": {
          "base_uri": "https://localhost:8080/"
        },
        "id": "w0U5QYRFLZnw",
        "outputId": "9790274c-9735-4077-e597-02e577818b98"
      },
      "source": [
        "\n",
        "search = []\n",
        "for text in df['text']:\n",
        "  search.append(text.find('муж'))\n",
        "print(search)  \n",
        "\n",
        "indices = [i for i, x in enumerate(search) if x == -1]\n",
        "\n",
        "print(indices)\n",
        "\n",
        "filtered_df = df.drop(axis=0, index=indices)\n",
        "print(filtered_df)"
      ],
      "execution_count": 138,
      "outputs": [
        {
          "output_type": "stream",
          "text": [
            "[261, 291, 392, 506, 176, 187, 187, 187, 1923, 563, 70, 206, 116, 1173, 405, 49, 23, 111, 315, 33, 66, 854, 166, 159, 276, 1250, 992, 87, 736, 356, 57, 691, 70, 85, 691, 43, 418, 56, 338, 460, 429, 934, 5926, 157, 23, 725, 418, 56, 160, 83, 1546, 230, 548, 523, 161, 71, 140, 146, 137, 161, 791, 624, 273, 353, 319, 227, 200, 75, 36, 336, 378, 77, 69, 826, 1145, 348, 71, 54, 432, 341, 192, 836, 444, 307, 706, 528, 273, 1244, 679, 566, 441, 382, 1127, 308, 42, 539, 459, 123, 86, 243, 67, 760, 635, 1656, 122, 122, 1787, 400, 579, 1846, 355, 429, 284, 304, 1476, 435, 1148, 123, 320, 523, 294, 794, 254, 122, 490, 202, 578, 351, 348, 23, 1093, 68, 70, 654, 70, 1283, 28, 23, 1340, 44, 610, 62, 510, 65, 395, 381, 1215, 484, 553, 99, 951, 100, 492, 1166, 1089, 390, 89, 959, 225, 91, 452, 287, 455, 405, 673, 686, 52, 110, 278, 438, 2289, 221, 439, 44, 135, 642, 244, 105, 565, 302, 52, 142, 368, 722, 594, 23, 384, 326, 1241, 991, 54, 512, 62, 597, 266, 192, 73, 76, 62, 850, 1197, 1281, 171, 139, 139, 139, 139, 138, 138, 138, 138, 310, 1090, 577, 255, 2517, 38, 108, 334, 71, 423, 196, 49, 156, 716, 397, 628, 137, 137, 137, 5453, 86, 1174, 759, 30, 933, 51, 68, 74, 1312, 1867, 87, 73, 57, 113, 61, 1007, 822, 64, 134, 1151, 11595, 1383, 578, 23, 1055, 1824, 1170, 1960, 440, 158, 84, 787, 627, 2790, 523, 156, 52, 141, 182, 918, 43, 62, 48, 344, 943, 144, 144, 1984, 120, 96, 96, 118, 104, 891, 336, 46, 443, 706, 59, 99, 535, 65, 56, 62, 300, 66, 72, 625, 51, 267, 66, 104, 62, 609, 374, 68, 279, 197, 316, 270, 64, 64, 1151, 492, 216, 75, 8917, 237, 208, 196, 286, 57, 343, 68, 100, 284, 322, 386, 74, 70, 73, 84, 41, 67, 373, 606, 618, 43, 347, 418, 293, 258, 1080, 1065, 51, 360, 64, 77, 1405, 1735, 651, 60, 905, 466, 551, 1024, 878, 213, 573, 749, 48, 74, 280, 64, 84, 224, 258, 2022, 54, 623, 52, 252, 68, 71, 71, 292, 119, 116, 391, 514, 345, 624, 50, 214, 285, 1004, 1286, 2093, 2166, 383, 348, 1059, 165, 65, 213, 320, 80, 275, 54, 71, 263, 275, 571, 261, 56, 146, 2176, 2578, 227, 142, 400, 351, 61, 1049, 65, 256, 347, 340, 94, 849, 53, 53, 143, 58, 373, 144, 61, 42, 339, 84, 83, 1421, 1433, 157, 673, 54, 30, 278, 83, 171, 103, 478, 351, 118, 42, 87, 65, 62, 62, 160, 48, 53, 39, 355, 413, 307, 824, 92, 988, 299, 96, 792, 3687, 108, 53, 305, 318, 52, 178, 65, 53, 991, 226, 56, 563, 331, 474, 552, 855, 334, 996, 87, 41, 64, 54, 94, 43, 116, 568, 69, 47, 56, 1476, 814, 1387, 64, 262, 65, 102, 130, 68, 56, 63, 72, 238, 339, 44, 315, 307, 328, 584, 934, 2192, 981, 531, 667, 736, 115, 399, 58, 434, 248, 341, 240, 67, 56, 44, 42, 632, 268, 292, 990, 437, 1738, 420, 2343, 717, 113, 57, 351, 499, 96, 448, 68, 274, 69, 214, 97, 77, 326, 578, 441, 896, 298, 289, 275, 222, 94, 578, 1280, 618, 50, 23, 107, 258, 329, 355, 93, 1019, 42, 312, 45, 214, 535, 615, 42, 361, 245, 662, 740, 34, 137, 51, 890, 287, 59, 188, 86, 74, 60, 76, 62, 77, 44, 62, 42, 58, 283, 50, 315, 42, 47, 98, 73, 318, 42, 47, 1901, 122, 748, 992, 719, 262, 65, 855, 644, 66, 277, 220, 1173, 483, 54, 548, 367, 49, 106, 1813, 482, 406, 1647, 922, 32, 290, 316, 84, 383, 62, 576, 338, 42, 42, 51, 307, 377, 274, 1055, 98, 60, 392, 349, 104, 442, 432, 53, 79, 1850, 53, 51, 315, 524, 800, 387, 96, 383, 62, 54, 192, 48, 52, 32, 878, 2076, 1144, 1294, 486, 49, 42, 89, 947, 296, 94, 510, 2655, 23, 307, 628, 273, 85, 77, 806, 251, 41, 931, 306, 259, 95, 451, 296, 380, 356, 71, 61, 287, 150, 265, 142, 256, 23, 1286, 2782, 938, 1471, 1116, 33, 62, 668, 493, 660, 450, 765, 94, 71, 369, 607, 1927, 2953, 98, 50, 43, 431, 96, 82, 499, 347, 48, 1045, 1280, 1984, 264, 399, 330, 48, 391, 80, 1410, 58, 40, 276, 701, 66, 80, 571, 609, 167, 52, 359, 67, 222, 184, 111, 448, 23, 32, 294, 147, 340, 458, 83, 290, 221, 325, 559, 549, 1169, 1174, 274, 1052, 513, 3067, 703, 1479, 184, 305, 621, 739, 85, 1261, 456, 142, 1304, 1043, 23, 71, 1376, 80, 246, 935, 3612, 513, 1286, 195, 488, 88, 44, 737, 70, 614, 293, 201, 743, 92, 125, 935, 485, 927, 165, 852, 979, 1109, 1412, 456, 56, 124, 655, 42, 1067, 49, 281, 57, 137, 2112, 42, 687, 639, 1221, 614, 2880, 2594, 246, 493, 3273, 440, 40, 276, 83, 121, 54, 48, 50, 227, 480, 77, 57, 326, 516, 48, 40, 45, 544, 40, 566, 322, 85, 1542, 557, 109, 307, 2012, 916, 140, 1846, 263, 1160, 619, 280, 96, 111, 73, 42, 437, 2641, 42, 292, 42, 127, 42, 283, 41, 571, 875, 1115, 412, 158, 1208, 579, 831, 516, 72, 788, 390, 116, 133, 85, 126, 795, 39, 90, 312, 106, 1001, 62, 90, 93, 162, 42, 56, 95, 144, 42, 755, 6840, 685, 145, 706, 1273, 75, 70, 1494, 398, 525, 98, 181, 69, 316, 1967, 68, 1899, 42, 109, 1175, 503, 271, 118, 2091, 265, 28, 42, 522, 207, 56, 406, 434, 72, 1403, 160, 54, 501, 575, 278, 23, 3761, 794, 115, 513, 97, 160, 1199, 819, 52, 176, 523, 124, 54, 41, 79, 1346, 319, 278, 237, 289, 174, 68, 52, 251, 43, 69, 1247, 1497, 634, 527, 1637, 959, 947, 1213, 629, 566, 911, 278, 856, 3309, 41, 69, 308, 882, 43, 136, 337, 33, 52, 91, 241, 853, 51, 375, 53, 72, 393, 65, 692, 296, 71, 68, 420, 1075, 110, 5769, 76, 71, 52, 52, 52, 537, 42, 56, 53, 54, 59, 112, 708, 134, 457, 104, 189, 97, 189, 751, 184, 156, 86, 200, 33, 202, 88, 77, 52, 64, 406, 242, 276, 437, 53, 97, 96, 35, 706, 939, 872, 1929, 6074, 5935, 543, 260, 1226, 23, 80, 23, 796, 288, 77, 82, 56, 83, 245, 33, 48, 800, 242, 306, 602, 73, 432, 41, 373, 431, 33, 637, 1616, 2175, 818, 2748, 257, 909, 1061, 328, 299, 467, 90, 99, 831, 64, 23, 423, 145, 66, 47, 331, 537, 615, 41, 234, 430, 179, 288, 124, 623, 3081, 588, 1239, 1182, 1266, 1828, 60, 263, 1444, 6544, 2160, 894, 530, 130, 203, 127, 1442, 7332, 599, 619, 379, 1485, 1197, 650, 3023, 23, 219, 630, 96, 43, 554, 81, 558, 94, 83, 231, 478, 1050, 617, 69, 149, 70, 350, 81, 132, 2255, 3775, 701, 1538, 535, 124, 1506, 1166, 1493, 666, 1122, 382, 493, 45, 1565, 3834, 62, 472, 345, 466, 208, 94, 141, 73, 298, 132, 73, 253, 84, 117, 44, 88, 69, 92, 311, 40, 251, 53, 258, 482, 70, 245, 605, 1494, 2384, 162, 135, 1456, 3033, 906, 2267, 833, 817, 103, 41, 49, 354, 38, 38, 128, 268, 348, 207, 72, 51, 417, 492, 56, 725, 60, 83, 993, 83, 392, 348, 76, 33, 563, 93, 276, 62, 216, 52, 1803, 156, 2298, 156, 414, 1850, 961, 69, 540, 2948, 696, 305, 487, 868, 97, 43, 54, 51, 2455, 1274, 79, 71, 382, 573, 67, 503, 85, 90, 402, 1689, 629, 1725, 144, 2749, 552, 100, 1947, 122, 634, 134, 87, 58, 3694, 290, 278, 252, 359, 184, 81, 278, 656, 46, 61, 186, 160, 123, 228, 411, 106, 188, 664, 330, 130, 289, 1245, 351, 382, 73, 45, 783, 45, 69, 55, 132, 78, 546, 425, 367, 348, 359, 1032, 1350, 345, 303, 307, 553, 279, 71, 1820, 256, 333, 659, 52, 246, 494, 370, 246, 44, 72, 52, 107, 773, 71, 82, 491, 315, 53, 229, 194, 219, 66, 247, 491, 32, 52, 530, 1772, 365, 1033, 77, 42, 69, 279, 865, 52, 54, 372, 379, 385, 385, 881, 134, 90, 2428, 277, 315, 890, 522, 57, 57, 50, 228, 64, 738, 507, 167, 485, 1193, 72, 357, 1458, 213, 390, 698, 390, 778, 283, 1605, 237, 88, 71, 261, 664, 493, 372, 66, 111, 175, 123, 23, 2184, 161, 3967, 1138, 78, 110, 773, 390, 156, 257, 70, 143, 28, 1726, 64, 88, 23, 45, 85, 358, 294, 448, 75, 23, 462, 297, 921, 96, 378, 1600, 550, 1056, 1291, 486, 72, 469, 776, 261, 444, 289, 117, 41, 11129, 91, 1043, 32, 90, 199, 396, 23, 66, 211, 283, 756, 583, 343, 80, 119, 2723, 81, 78, 513, 214, 581, 136, 735, 1158, 287, 49, 388, 97, 252, 188, 54, 343, 872, 51, 48, 563, 77, 66, 81, 41, 41, 77, 260, 1570, 269, 282, 328, 908, 128, 155, 54, 278, 231, 388, 388, 388, 2922, 80, 83, 981, 948, 2169, 2726, 1304, 388, 388, 119, 388, 51, 47, 47, 116, 63, 78, 1383, 106, 43, 450, 307, 96, 42, 109, 70, 107, 238, 23, 23, 979, 47, 2131, 547, 51, 23, 357, 775, 71, 210, 75, 376, 33, 23, 121, 171, 1097, 212, 1071, 68, 67, 543, 77, 102, 93, 87, 298, 75, 44, 713, 2015, 939, 1421, 204, 242, 349, 247, 2338, 130, 580, 2526, 387, 387, 387, 407, 911, 112, 393, 138, 721, 131, 112, 67, 934, 525, 1186, 77, 499, 3045, 74, 1804, 110, 293, 340, 97, 56, 284, 49, 536, 199, 60, 276, 750, 346, 279, 211, 23, 390, 118, 121, 1319, 1159, 114, 427, 1589, 19974, 393, 380, 260, 455, 106, 303, 72, 298, 81, 169, 32, 263, 77, 42, 68, 293, 279, 65, 47, 1208, 206, 2311, 1125, 61, 50, 582, 1990, 139, 127, 87, 88, 91, 75, 670, 355, 23, 1598, 276, 144, 98, 94, 295, 103, 64, 47, 1392, 107, 85, 48, 75, 32, 1149, 81, 546, 371, 245, 318, 545, 40, 44, 57, 217, 92, 1374, 70, 592, 4639, 1010, 94, 547, 388, 3381, 689, 296, 81, 184, 300, 1911, 352, 193, 306, 71, 62, 119, 491, 477, 1134, 53, 51, 278, 1395, 63, 62, 248, 291, 1471, 501, 54, 766, 152, 98, 484, 856, 151, 69, 101, 130, 62, 308, 59, 95, 69, 118, 381, 186, 130, 120, 631, 310, 593, 1107, 1230, 5677, 128, 85, 654, 152, 512, 75, 51, 166, 33, 375, 41, 508, 328, 120, 101, 56, 97, 537, 390, 90, 711, 390, 507, 169, 194, 806, 181, 217, 42, 158, 239, 139, 170, 239, 98, 95, 231, 126, 71, 69, 1271, 57, 555, 1966, 51, 342, 295, 2858, 831, 277, 81, 2118, 3696, 134, 573, 1360, 599, 350, 55, 113, 425, 254, 759, 387, 1469, 125, 5603, 513, 52, 385, 2377, 85, 83, 433, 449, 1132, 238, 113, 495, 401, 178, 266, 666, 233, 56, 182, 48, 42, 230, 441, 79, 77, 683, 2204, 1439, 1515, 2667, 293, 385, 385, 110, 100, 119, 326, 160, 429, 518, 422, 386, 72, 102, 33, 81, 23, 2492, 193, 267, 317, 470, 244, 368, 294, 99, 77, 101, 157, 99, 252, 114, 471, 114, 125, 201, 101, 278, 530, 62, 630, 51, 77, 75, 85, 1280, 53, 1118, 212, 503, 436, 733, 31, 354, 494, 444, 112, 63, 32, 79, 108, 46, 443, 93, 69, 108, 294, 109, 54, 217, 317, 53, 69, 179, 403, 2086, 89, 1030, 78, 1299, 587, 1769, 103, 384, 98, 1926, 263, 23, 86, 88, 2302, 393, 102, 581, 579, 83, 81, 51, 314, 122, 140, 83, 104, 72, 52, 183, 101, 130, 90, 97, 141, 97, 77, 38, 32, 2424, 2089, 73, 77, 287, 69, 128, 281, 52, 229, 761, 53, 97, 135, 385, 1913, 300, 457, 77, 305, 122, 1634, 443, 1526, 711, 284, 462, 73, 504, 68, 292, 70, 61, 93, 427, 295, 109, 118, 74, 71, 538, 43, 423, 706, 108, 143, 476, 28, 743, 89, 431, 155, 128, 393, 2999, 744, 641, 1158, 725, 334, 384, 108, 266, 383, 174, 281, 81, 72, 312, 404, 284, 291, 53, 75, 137, 338, 248, 69, 93, 107, 774, 64, 76, 64, 226, 383, 69, 52, 331, 61, 86, 383, 384, 384, 78, 8552, 380, 278, 1879, 291, 1114, 75, 109, 548, 414, 698, 3194, 104, 654, 732, 349, 327, 86, 359, 627, 836, 840, 679, 1025, 127, 45, 329, 736, 329, 1372, 42, 113, 352, 131, 282, 51, 319, 517, 120, 90, 64, 103, 250, 577, 250, 145, 74, 451, 659, 321, 83, 75, 44, 762, 373, 1663, 1557, 1307, 3263, 535, 1378, 1318, 1613, 573, 103, 2798, 331, 645, 106, 298, 78, 289, 229, 85, 101, 101, 567, 99, 315, 318, 42, 326, 3341, 172, 1046, 37, 966, 277, 678, 276, 143, 1007, 413, 218, 578, 760, 204, 73, 53, 1115, 45, 371, 1004, 777, 3697, 1412, 151, 487, 78, 1518, 151, 2426, 634, 287, 835, 570, 2688, 1078, 1087, 792, 1366, 582, 59, 79, 51, 715, 46, 394, 1102, 280, 90, 416, 49, 391, 1366, 181, 81, 388, 297, 89, 272, 51, 46, 67, 23, 42, 42, 169, 114, 157, 279, 126, 500, 100, 42, 1523, 293, 60, 62, 543, 456, 600, 79, 3004, 2873, 524, 123, 2026, 490, 1567, 155, 789, 2284, 487, 46, 283, 1872, 278, 147, 73, 55, 483, 67, 56, 292, 93, 68, 274, 70, 70, 395, 421, 201, 352, 79, 433, 361, 77, 59, 227, 184, 125, 583, 309, 302, 51, 203, 189, 146, 762, 608, 2133, 953, 551, 977, 37, 1575, 1551, 1567, 455, 90, 59, 243, 35, 50, 444, 494, 228, 177, 185, 235, 69, 277, 167, 748, 399, 48, 188, 290, 393, 521, 498, 84, 35, 327, 270, 75, 59, 114, 514, 1848, 39, 45, 287, 717, 493, 64, 411, 64, 118, 2225, 193, 230, 91, 435, 255, 33, 816, 448, 345, 377, 274, 52, 167, 183, 53, 217, 320, 48, 366, 408, 593, 1290, 7950, 1288, 34, 970, 1328, 888, 1012, 182, 416, 244, 537, 54, 414, 53, 326, 53, 3529, 412, 892, 408, 513, 1178, 102, 286, 1233, 212, 1017, 334, 1330, 673, 91, 218, 479, 173, 348, 196, 934, 859, 113, 274, 241, 120, 882, 82, 303, 48, 132, 43, 82, 326, 269, 673, 48, 86, 431, 203, 2197, 1344, 92, 95, 934, 815, 965, 148, 137, 98, 1329, 560, 579, 518, 97, 353, 638, 67, 96, 45, 611, 323, 524, 750, 372, 237, 51, 92, 280, 32, 32, 827, 205, 224, 306, 394, 607, 214, 2633, 78, 289, 284, 460, 48, 33, 125, 153, 137, 137, 137, 137, 137, 159, 155, 124, 824, 622, 155, 803, 74, 149, 872, 432, 215, 364, 42, 365, 257, 628, 283, 78, 107, 1469, 226, 62, 1269, 362, 42, 59, 308, 51, 62, 51, 93, 51, 183, 257, 44, 99, 23, 314, 163, 244, 225, 264, 344, 337, 42, 42, 461, 42, 405, 42, 1210, 1131, 774, 56, 119, 68, 420, 810, 44, 56, 280, 450, 113, 149, 137, 1216, 832, 217, 137, 149, 148, 149, 512, 713, 281, 267, 316, 1334, 1291, 1540, 1292, 270, 305, 105, 91, 59, 142, 1588, 85, 228, 419, 790, 118, 126, 387, 41, 414, 920, 344, 499, 304, 712, 422, 58, 700, 206, 123, 623, 166, 2382, 69, 217, 271, 600, 279, 60, 560, 892, 272, 68, 88, 109, 559, 218, 1955, 39, 372, 43, 543, 233, 97, 289, 69, 1639, 1351, 305, 335, 367, 290, 75, 1136, 158, 312, 254, 33, 150, 103, 4439, 129, 49, 719, 171, 171, 171, 354, 42, 260, 78, 45, 570, 866, 798, 511, 606, 73, 87, 512, 362, 449, 285, 402, 388, 59, 903, 833, 124, 452, 1376, 51, 490, 573, 69, 253, 1449, 166, 128, 509, 51, 76, 613, 929, 123, 299, 115, 258, 28, 1390, 316, 309, 287, 317, 348, 431, 71, 569, 326, 262, 313, 125, 254, 244, 244, 214, 400, 170, 658, 450, 780, 210, 311, 508, 50, 35, 317, 1028, 49, 755, 71, 41, 989, 527, 49, 273, 23, 69, 170, 97, 821, 41, 632, 695, 495, 52, 53, 288, 48, 696, 63, 395, 52, 82, 170, 182, 170, 1238, 60, 1258, 1330, 1388, 279, 2367, 1054, 464, 91, 297, 279, 1089, 1013, 219, 290, 202, 42, 710, 401, 293, 964, 7960, 417, 163, 33, 346, 250, 225, 358, 758, 412, 281, 42, 42, 305, 921, 249, 780, 63, 52, 285, 554, 67, 444, 203, 239, 2801, 341, 521, 552, 67, 469, 409, 42, 79, 66, 2069, 109, 622, 350, 446, 4128, 393, 2514, 2292, 622, 64, 98, 761, 592, 8407, 57, 53, 130, 339, 69, 42, 431, 318, 34, 469, 42, 41, 3533, 159, 448, 1053, 2173, 2127, 2797, 835, 338, 72, 53, 479, 42, 110, 2600, 392, 61, 1786, 670, 98, 766, 71, 589, 93, 128, 831, 1600, 2485, 1019, 4230, 1103, 627, 66, 1965, 433, 626, 1447, 105, 110, 277, 458, 146, 231, 79, 81, 77, 287, 323, 81, 470, 481, 179, 526, 2096, 730, 2087, 1087, 1470, 58, 1032, 1383, 343, 327, 332, 1351, 874, 148, 33, 408, 42, 66, 51, 70, 227, 1082, 627, 224, 410, 275, 67, 97, 206, 23, 1234, 1510, 331, 901, 491, 322, 52, 224, 235, 96, 54, 48, 97, 105, 33, 376, 42, 33, 306, 598, 407, 366, 577, 641, 147, 70, 97, 319, 42, 279, 115, 54, 320, 236, 115, 53, 54, 175, 562, 2933, 23, 631, 317, 95, 1361, 406, 644, 786, 606, 44, 395, 677, 87, 42, 42, 44, 498, 300, 355, 54, 52, 53, 53, 692, 529, 82, 259, 288, 352, 48, 56, 56, 367, 93, 856, 3192, 162, 174, 96, 378, 357, 613, 427, 76, 492, 522, 48, 144, 561, 51, 336, 340, 48, 599, 602, 2394, 400, 2326, 51, 53, 69, 59, 2095, 681, 268, 352, 479, 59, 256, 49, 52, 205, 42, 42, 48, 2867, 42, 58, 53, 48, 231, 42, 137, 535, 491, 434, 1581, 710, 952, 259, 83, 328, 190, 243, 1123, 378, 515, 487, 299, 321, 336, 79, 43, 323, 223, 258, 288, 633, 353, 51, 98, 281, 54, 111, 750, 358, 262, 100, 71, 52, 53, 63, 317, 110, 71, 65, 52, 231, 351, 224, 88, 85, 33, 372, 823, 556, 54, 386, 600, 119, 242, 79, 48, 103, 51, 748, 224, 81, 114, 427, 91, 162, 544, 1837, 112, 534, 401, 1615, 1347, 1922, 345, 68, 142, 555, 185, 70, 42, 329, 186, 42, 144, 306, 42, 299, 55, 108, 293, 606, 328, 42, 1237, 499, 69, 118, 269, 385, 70, 54, 82, 72, 324, 391, 102, 198, 204, 70, 309, 43, 61, 447, 680, 69, 42, 1039, 341, 60, 1158, 359, 42, 33, 324, 359, 78, 85, 109, 98, 104, 95, 190, 98, 102, 113, 96, 98, 98, 43, 120, 1005, 2141, 418, 73, 1767, 276, 71, 77, 42, 56, 94, 101, 54, 110, 109, 91, 47, 134, 42, 232, 275, 261, 362, 65, 496, 488, 1186, 1010, 82, 78, 98, 438, 93, 53, 52, 75, 42, 42, 798, 458, 1073, 42, 42, 281, 93, 76, 102, 503, 149, 99, 93, 534, 180, 1832, 295, 94, 186, 42, 802, 805, 42, 230, 311, 158, 57, 330, 42, 960, 82, 52, 93, 93, 170, 93, 643, 119, 197, 93, 109, 49, 58, 237, 939, 74, 981, 76, 69, 716, 201, 466, 30, 466, 587, 131, 576, 64, 595, 79, 954, 225, 601, 68, 157, 277, 263, 2580, 69, 194, 639, 664, 579, 689, 1373, 42, 456, 67, 584, 157, 318, 86, 83, 120, 316, 55, 51, 322, 541, 222, 33, 328, 622, 626, 33, 42, 471, 607, 51, 42, 80, 566, 79, 77, 76, 987, 587, 202, 401, 635, 173, 130, 622, 523, 135, 481, 610, 90, 108, 260, 45, 156, 151, 105, 109, 2562, 89, 48, 419, 304, 42, 314, 109, 329, 1276, 381, 43, 695, 324, 105, 415, 274, 850, 465, 91, 137, 54, 634, 203, 2480, 1459, 233, 557, 553, 475, 1551, 124, 377, 300, 650, 40, 236, 296, 57, 278, 100, 484, 62, 42, 115, 291, 593, 105, 99, 80, 277, 783, 182, 352, 1460, 330, 212, 42, 679, 42, 52, 469, 42, 97, 56, 42, 93, 23, 404, 2527, 110, 247, 287, 148, 71, 285, 100, 1921, 989, 379, 328, 948, 101, 307, 435, 42, 337, 991, 68, 566, 32, 230, 159, 94, 229, 631, 958, 175, 374, 62, 183, 1044, 43, 127, 356, 69, 61, 282, 1284, 415, 366, 77, 604, 42, 444, 347, 580, 510, 581, 54, 279, 646, 300, 363, 562, 435, 362, 62, 72, 153, 178, 1872, 719, 1437, 2034, 175, 1334, 474, 125, 526, 254, 112, 127, 83, 1557, 46, 364, 53, 671, 316, 71, 711, 103, 1267, 2779, 268, 43, 69, 421, 1194, 876, 50, 51, 33, 484, 483, 86, 42, 93, 510, 228, 69, 333, 314, 563, 207, 281, 180, 49, 526, 770, 94, 421, 126, 45, 289, 278, 435, 391, 3993, 318, 69, 43, 45, 42, 246, 251, 1282, 57, 62, 239, 93, 836, 413, 530, 346, 42, 653, 4003, 511, 148, 150, 43, 495, 672, 525, 325, 292, 312, 248, 629, 1031, 405, 1112, 56, 42, 48, 62, 102, 51, 54, 42, 975, 42, 443, 115, 42, 48, 52, 118, 42, 250, 284, 316, 174, 293, 1837, 97, 149, 368, 162, 492, 158, 271, 273, 668, 1052, 1498, 455, 541, 819, 595, 2146, 1167, 23, 3057, 461, 342, 483, 657, 461, 733, 304, 401, 437, 319, 104, 1062, 323, 942, 1211, 1019, 349, 2935, 85, 553, 802, 537, 2181, 1262, 61, 199, 45, 622, 74, 1133, 793, 509, 53, 277, 108, 74, 307, 246, 940, 69, 42, 282, 338, 267, 11421, 1992, 174, 71, 70, 117, 827, 1673, 520, 281, 211, 545, 196, 239, 352, 75, 530, 314, 1109, 42, 145, 1671, 3112, 616, 939, 521, 670, 856, 227, 522, 234, 379, 868, 86, 269, 1633, 57, 617, 733, 83, 104, 779, 391, 42, 637, 297, 99, 463, 64, 820, 1045, 803, 599, 7563, 5886, 826, 1457, 7142, 764, 664, 3918, 1692, 4217, 9771, 50, 778, 250, 327, 33, 917, 97, 1088, 397, 504, 70, 70, 70, 458, 658, 51, 797, 608, 599, 186, 322, 541, 223, 480, 44, 6617, 45731, 788, 5864, 7968, 710, 3802, 1410, 1036, 10800, 395, 530, 153, 352, 517, 330, 754, 920, 266, 443, 270, 480, 470, 433, 653, 262, 187, 218, 44, 966, 120, 67, 87, 1467, 46, 110, 932, 654, 346, 197, 552, 382, 1396, 551, 60, 23, 813, 384, 2286, 583, 186, 554, 92, 242, 310, 569, 33, 42, 264, 329, 321, 240, 232, 177, 301, 177, 367, 104, 75, 232, 643, 1016, 774, 3663, 41, 32, 237, 173, 63, 820, 74, 76, 396, 76, 400, 328, 63, 379, 47, 316, 85, 967, 1188, 42, 363, 52, 274, 51, 260, 415, 77, 53, 228, 85, 496, 381, 379, 51, 457, 317, 64, 412, 40, 535, 427, 127, 1636, 95, 211, 712, 175, 83, 229, 165, 254, 279, 41, 634, 264, 692, 110, 271, 334, 40, 93, 575, 607, 453, 55, 264, 269, 39, 438, 42, 648, 104, 74, 364, 46, 156, 345, 49, 42, 286, 439, 310, 891, 114, 94, 321, 374, 406, 727, 61, 406, 475, 862, 92, 306, 55, 505, 322, 124, 35, 41, 873, 75, 68, 367, 240, 118, 408, 147, 121, 144, 301, 80, 219, 337, 53, 275, 88, 1018, 404, 763, 266, 93, 550, 274, 419, 400, 106, 971, 470, 75, 53, 597, 364, 770, 77, 470, 269, 340, 239, 109, 647, 107, 335, 52, 54, 345, 317, 117, 310, 73, 361, 46, 69, 365, 736, 144, 299, 62, 288, 275, 213, 1758, 46, 572, 137, 52, 23, 287, 413, 304, 52, 88, 42, 52, 71, 65, 42, 56, 308, 42, 46, 293, 86, 727, 434, 71, 505, 1088, 359, 76, 41, 71, 85, 128, 32, 71, 243, 42, 33, 111, 32, 53, 56, 493, 1016, 397, 476, 1048, 360, 42, 417, 264, 156, 355, 787, 245, 504, 54, 495, 426, 297, 1208, 265, 69, 595, 69, 85, 23, 92, 690, 615, 89, 136, 76, 157, 42, 974, 100, 51, 746, 1152, 886, 303, 534, 313, 593, 666, 487, 369, 54, 515, 704, 55, 47, 162, 178, 1406, 606, 84, 53, 755, 150, 113, 41, 178, 38, 251, 559, 318, 324, 313, 87, 1306, 500, 329, 69, 69, 68, 68, 152, 1220, 255, 925, 598, 86, 448, 1732, 32, 133, 97, 73, 74, 382, 305, 307, 70, 283, 297, 70, 62, 481, 119, 142, 33, 264, 359, 260, 93, 1240, 260, 469, 44, 179, 261, 60, 41, 63, 99, 202, 23, 1084, 238, 219, 233, 329, 491, 48, 240, 54, 68, 122, 136, 123, 1325, 833, 366, 60, 389, 1149, 305, 104, 216, 1521, 907, 72, 92, 229, 64, 788, 266, 279, 64, 58, 274, 353, 78, 62, 32, 1423, 1333, 68, 274, 324, 392, 42, 323, 574, 361, 555, 293, 1079, 295, 41, 69, 71, 497, 50, 37, 117, 66, 32, 75, 117, 281, 57, 56, 54, 206, 411, 220, 938, 457, 48, 131, 175, 334, 68, 119, 297, 103, 260, 179, 1327, 42, 56, 317, 62, 52, 361, 815, 2676, 412, 339, 1272, 1659, 198, 676, 71, 82, 62, 667, 106, 245, 116, 55, 592, 127, 732, 530, 550, 23, 202, 87, 172, 409, 391, 1739, 164, 4601, 803, 609, 802, 70, 42, 2440, 52, 374, 70, 448, 1450, 33, 67, 41, 224, 565, 1003, 495, 316, 708, 284, 1335, 496, 547, 88, 542, 488, 299, 198, 23, 144, 1237, 472, 435, 852, 862, 215, 110, 970, 317, 386, 114, 143, 269, 267, 92, 87, 429, 257, 84, 52, 149, 1721, 634, 622, 98, 203, 506, 32, 23, 283, 53, 3399, 392, 584, 329, 33, 630, 62, 341, 1277, 371, 322, 137, 78, 156, 1165, 1101, 260, 1233, 405, 631, 507, 174, 48, 185, 280, 303, 283, 141, 33, 48, 70, 40, 42, 2311, 41, 277, 283, 67, 534, 244, 109, 1238, 978, 303, 1042, 309, 86, 77, 195, 449, 1902, 299, 1437, 365, 309, 485, 317, 310, 59, 54, 396, 657, 375, 678, 43, 535, 55, 167, 286, 349, 239, 253, 625, 47, 126, 149, 38, 196, 623, 1075, 634, 122, 324, 48, 47, 262, 283, 46, 676, 28, 978, 552, 1040, 240, 623, 489, 111, 458, 418, 466, 415, 262, 90, 305, 42, 101, 768, 111, 490, 66, 570, 564, 686, 223, 121, 153, 1041, 54, 227, 102, 113, 160, 225, 54, 94, 302, 126, 637, 316, 328, 1665, 301, 695, 88, 217, 531, 9261, 1165, 194, 104, 1419, 296, 42, 1530, 536, 23, 240, 1080, 204, 172, 41, 56, 414, 316, 402, 211, 591, 437, 76, 313, 293, 42, 716, 2225, 1129, 96, 56, 111, 243, 146, 408, 41, 105, 444, 41, 72, 51, 33, 49, 1719, 226, 716, 579, 52, 43, 53, 318, 53, 53, 1183, 62, 289, 56, 884, 9194, 254, 4974, 146, 870, 493, 1023, 529, 181, 43, 459, 524, 56, 406, 825, 380, 271, 52, 409, 84, 2243, 237, 690, 342, 400, 689, 444, 103, 41, 41, 41, 1065, 56, 649, 41, 72, 56, 68, 356, 1593, 302, 766, 151, 51, 1341, 408, 477, 345, 707, 213, 4666, 2800, 106, 85, 76, 77, 105, 108, 219, 42, 42, 792, 373, 512, 84, 289, 99, 458, 293, 73, 112, 61, 174, 145, 132, 2443, 161, 1580, 373, 51, 77, 82, 51, 64, 110, 284, 97, 48, 240, 1203, 40, 59, 59, 64, 64, 3214, 15831, 589, 292, 238, 124, 28, 459, 58, 196, 37, 56, 453, 76, 51, 49, 330, 64, 64, 657, 522, 348, 297, 274, 485, 322, 1775, 437, 556, 693, 677, 397, 353, 450, 299, 123, 78, 116, 88, 68, 73, 557, 33, 85, 101, 795, 67, 63, 262, 960, 342, 1439, 1807, 330, 290, 66, 327, 835, 41, 328, 347, 32, 257, 568, 67, 226, 69, 88, 214, 274, 65, 335, 59, 85, 51, 323, 816, 209, 48, 302, 133, 280, 65, 42, 134, 49, 3293, 351, 603, 48, 1380, 43, 2473, 254, 84, 241, 202, 32, 1583, 108, 108, 1766, 452, 85, 930, 134, 392, 330, 48, 881, 389, 233, 358, 1429, 60, 408, 67, 54, 318, 262, 40, 93, 474, 59, 53, 140, 69, 895, 263, 552, 268, 141, 111, 585, 302, 484, 302, 90, 513, 394, 68, 421, 401, 682, 1671, 2824, 801, 482, 727, 427, 633, 652, 637, 7069, 622, 949, 8577, 206, 440, 268, 42, 94, 58, 96, 266, 52, 56, 243, 156, 344, 74, 88, 136, 218, 544, 222, 96, 588, 86, 669, 352, 608, 178, 23, 522, 42, 654, 315, 77, 78, 323, 450, 105, 79, 270, 63, 63, 44, 385, 46, 281, 1217, 46, 52, 45, 227, 48, 68, 3919, 671, 1617, 3886, 84, 260, 106, 38, 33, 56, 853, 69, 84, 42, 262, 42, 42, 61, 264, 54, 107, 53, 308, 291, 43, 192, 33, 384, 64, 70, 690, 225, 243, 427, 389, 277, 72, 69, 320, 53, 193, 48, 72, 53, 406, 334, 42, 89, 64, 462, 69, 792, 9399, 1578, 2089, 853, 55, 54, 60, 52, 67, 806, 1088, 229, 42, 286, 314, 248, 45, 243, 51, 1047, 52, 33, 729, 997, 382, 108, 279, 38, 33, 130, 755, 109, 792, 60, 49, 793, 287, 69, 60, 586, 274, 42, 67, 219, 49, 668, 678, 315, 303, 255, 373, 493, 1118, 1169, 141, 249, 710, 34, 313, 432, 502, 1273, 3978, 786, 288, 259, 570, 115, 217, 523, 79, 74, 54, 62, 137, 158, 54, 52, 41, 41, 90, 90, 51, 429, 165, 368, 1076, 1618, 85, 482, 84, 64, 61, 4298, 3932, 50, 249, 2151, 119, 33, 158, 74, 613, 1211, 42, 32, 79, 58, 259, 275, 285, 453, 638, 42, 42, 35, 33, 1816, 15459, 628, 848, 394, 421, 365, 166, 53, 48, 113, 153, 132, 775, 104, 63, 115, 260, 134, 52, 253, 163, 1011, 87, 41, 57, 54, 33, 271, 64, 98, 500, 236, 125, 52, 54, 68, 293, 217, 350, 43, 250, 50, 306, 383, 232, 61, 47, 46, 207, 55, 70, 381, 272, 85, 33, 71, 22439, 1188, 1008, 1426, 759, 51, 849, 411, 509, 251, 531, 1232, 928, 970, 655, 280, 361, 23, 46, 42, 454, 257, 238, 114, 73, 325, 615, 586, 42, 1797, 42, 264, 593, 62, 279, 1733, 398, 71, 294, 113, 55, 49, 396, 670, 58, 203, 267, 309, 71, 858, 1351, 69, 1441, 33, 41, 669, 3104, 67, 426, 264, 66, 283, 150, 41, 320, 241, 74, 296, 330, 394, 84, 130, 142, 48, 79, 919, 159, 309, 276, 474, 42, 324, 1152, 75, 1064, 128, 687, 80, 271, 33, 945, 747, 261, 294, 1447, 166, 74, 416, 93, 1442, 526, 252, 322, 222, 479, 73, 23, 87, 271, 880, 1701, 2391, 1122, 459, 130, 1410, 213, 815, 303, 87, 33, 55, 136, 46, 88, 48, 374, 183, 390, 205, 118, 119, 944, 694, 1885, 170, 319, 23, 327, 60, 279, 324, 234, 101, 241, 109, 114, 275, 315, 42, 42, 115, 914, 42, 481, 190, 219, 147, 200, 99, 266, 588, 99, 202, 404, 98, 1953, 330, 1179, 59, 61, 42, 530, 80, 323, 298, 369, 988, 264, 36, 319, 354, 262, 467, 205, 453, 84, 277, 23, 448, 358, 31, 56, 73, 96, 106, 40, 42, 65, 331, 771, 544, 644, 681, 275, 443, 623, 60, 863, 99, 109, 84, 95, 68, 69, 322, 80, 192, 49, 348, 271, 1597, 99, 164, 54, 62, 961, 75, 277, 1846, 274, 115, 1030, 586, 569, 105, 923, 728, 33, 85, 537, 48, 278, 184, 62, 1061, 30, 80, 146, 251, 263, 988, 339, 52, 231, 320, 112, 98, 244, 255, 581, 297, 3362, 538, 529, 63, 649, 422, 105, 92, 111, 1351, 33, 133, 454, 313, 305, 515, 158, 247, 538, 93, 48, 246, 352, 1010, 875, 365, 180, 320, 1053, 955, 214, 65, 29, 103, 305, 59, 42, 111, 492, 62, 559, 190, 25, 570, 641, 311, 1083, 529, 196, 252, 844, 68, 316, 341, 120, 96, 165, 115, 42, 42, 550, 583, 744, 367, 408, 352, 853, 102, 383, 299, 274, 630, 565, 51, 122, 62, 54, 49, 291, 752, 42, 52, 475, 294, 42, 652, 23, 70, 83, 57, 143, 275, 290, 3493, 48, 916, 942, 105, 38, 267, 238, 112, 529, 38, 63, 111, 61, 63, 1048, 76, 42, 698, 257, 59, 72, 322, 318, 84, 1143, 387, 398, 972, 332, 203, 181, 102, 237, 729, 73, 987, 42, 82, 58, 41, 328, 60, 41, 334, 243, 392, 62, 43, 61, 350, 63, 649, 63, 293, 112, 1427, 42, 42, 340, 546, 287, 379, 890, 403, 818, 108, 748, 69, 176, 219, 624, 53, 54, 98, 42, 43, 720, 53, 66, 51, 283, 117, 1892, 632, 529, 283, 51, 329, 85, 81, 119, 503, 125, 125, 260, 752, 366, 445, 56, 1049, 3366, 66, 282, 1092, 43, 76, 57, 63, 76, 51, 69, 23, 205, 71, 456, 71, 52, 279, 3786, 41, 54, 684, 96, 1328, 515, 1179, 261, 563, 56, 93, 654, 53, 258, 1910, 291, 131, 76, 280, 32, 133, 55, 71, 54, 229, 65, 68, 1071, 51, 62, 244, 598, 59, 186, 61, 80, 3382, 66, 154, 42, 320, 54, 54, 154, 80, 181, 137, 1042, 81, 557, 60, 231, 77, 484, 251, 714, 103, 79, 105, 512, 60, 304, 265, 52, 52, 51, 184, 261, 1647, 652, 22361, 286, 156, 248, 619, 1221, 486, 86, 83, 641, 380, 62, 42, 65, 57, 406, 54, 64, 84, 214, 97, 79, 88, 82, 548, 2730, 1571, 437, 696, 418, 443, 82, 432, 73, 313, 62, 90, 73, 85, 387, 33, 199, 336, 415, 79, 1009, 837, 1194, 814, 43, 466, 392, 152, 588, 120, 48, 41, 42, 42, 64, 84, 52, 53, 53, 281, 324, 66, 76, 53, 472, 284, 159, 533, 908, 261, 538, 477, 62, 683, 32, 122, 599, 52, 53, 257, 42, 1096, 109, 375, 54, 40, 421, 80, 202, 206, 48, 2318, 327, 769, 187, 184, 104, 454, 830, 147, 207, 69, 368, 42, 159, 42, 48, 33, 64, 291, 838, 120, 256, 43, 50, 302, 906, 675, 128, 431, 331, 1961, 642, 833, 89, 81, 421, 54, 42, 56, 73, 52, 48, 50, 1791, 345, 62, 40, 518, 721, 203, 43, 52, 838, 33, 173, 274, 123, 864, 430, 315, 454, 51, 42, 256, 65, 403, 42, 42, 160, 122, 62, 54, 52, 131, 50, 73, 66, 102, 89, 86, 102, 70, 59, 72, 510, 377, 799, 118, 610, 79, 61, 629, 1660, 2113, 338, 968, 327, 98, 51, 52, 56, 665, 54, 55, 299, 70, 53, 609, 381, 244, 100, 203, 418, 91, 59, 66, 73, 81, 78, 99, 614, 351, 993, 165, 118, 257, 277, 641, 404, 412, 516, 51, 62, 42, 52, 42, 275, 345, 514, 451, 540, 656, 290, 101, 472, 372, 426, 437, 161, 1060, 232, 89, 215, 35, 1545, 241, 927, 829, 284, 62, 213, 249, 122, 76, 906, 2488, 41, 64, 1028, 42, 42, 57, 145, 265, 69, 531, 213, 562, 324, 475, 389, 273, 1081, 1018, 1116, 365, 822, 86, 155, 44, 520, 70, 475, 467, 419, 50, 67, 351, 597, 1050, 171, 61, 84, 178, 92, 1163, 56, 48, 52, 84, 174, 582, 55, 43, 55, 49, 90, 143, 67, 534, 478, 523, 32, 259, 42, 75, 878, 83, 439, 65, 62, 67, 398, 52, 2924, 189, 849, 328, 234, 218, 346, 366, 441, 280, 900, 256, 41, 239, 344, 1143, 48, 42, 630, 48, 64, 79, 282, 497, 846, 410, 854, 446, 246, 924, 258, 54, 57, 259, 54, 68, 68, 88, 40, 54, 54, 102, 54, 318, 102, 89, 505, 788, 256, 152, 82, 23, 62, 81, 84, 66, 273, 72, 98, 127, 121, 91, 48, 366, 293, 228, 297, 264, 73, 499, 398, 999, 843, 201, 297, 220, 878, 988, 54, 84, 357, 32, 393, 220, 91, 55, 265, 395, 1584, 418, 35, 480, 283, 66, 167, 43, 371, 1702, 197, 68, 56, 99, 51, 204, 385, 215, 83, 227, 52, 87, 292, 53, 78, 270, 48, 65, 99, 322, 101, 115, 92, 4623, 97, 351, 613, 2558, 78, 169, 68, 68, 33, 42, 58, 438, 358, 337, 329, 41, 53, 79, 78, 88, 51, 41, 694, 1045, 245, 223, 135, 239, 175, 264, 215, 202, 829, 153, 295, 119, 644, 203, 52, 79, 68, 48, 107, 91, 71, 97, 486, 2570, 103, 642, 674, 520, 445, 94, 196, 133, 116, 53, 916, 49, 88, 56, 42, 62, 137, 52, 77, 43, 343, 732, 1182, 73, 98, 95, 69, 739, 51, 69, 82, 69, 331, 87, 51, 108, 72, 48, 69, 938, 86, 133, 819, 534, 113, 197, 87, 256, 63, 58, 63, 258, 45, 578, 66, 98, 961, 62, 945, 68, 73, 301, 394, 464, 262, 53, 312, 370, 212, 108, 231, 434, 665, 294, 32, 246, 51, 301, 222, 50, 32, 90, 42, 534, 105, 273, 276, 3432, 243, 62, 38, 352, 49, 87, 51, 1028, 1675, 277, 48, 90, 47, 83, 631, 227, 73, 59, 86, 249, 133, 411, 183, 218, 1042, 240, 195, 72, 584, 23, 172, 698, 47, 208, 215, 369, 334, 42, 42, 98, 88, 65, 23, 791, 447, 73, 274, 436, 118, 588, 512, 33, 710, 50, 73, 204, 288, 265, 262, 252, 362, 337, 800, 79, 272, 515, 54, 56, 54, 51, 46, 65, 1736, 739, 71, 263, 277, 342, 147, 46, 2079, 69, 207, 123, 42, 409, 51, 528, 68, 65, 68, 68, 56, 48, 48, 51, 53, 72, 87, 242, 43, 219, 93, 50, 77, 197, 829, 139, 173, 333, 141, 174, 339, 60, 82, 71, 69, 42, 31, 203, 333, 250, 80, 69, 69, 163, 56, 71, 660, 979, 68, 297, 158, 89, 201, 175, 250, 243, 58, 517, 235, 1285, 221, 196, 104, 275, 450, 43, 468, 258, 58, 79, 139, 172, 53, 47, 48, 882, 694, 334, 54, 117, 151, 180, 652, 239, 742, 53, 280, 217, 175, 95, 228, 689, 713, 284, 404, 48, 89, 311, 32, 32, 44, 145, 69, 66, 135, 64, 51, 552, 11163, 352, 1089, 260, 472, 421, 79, 266, 427, 59, 83, 87, 90, 53, 55, 53, 77, 47, 123, 145, 61, 835, 735, 64, 66, 88, 45, 240, 294, 250, 507, 2099, 53, 64, 92, 486, 42, 151, 49, 56, 358, 42, 215, 378, 51, 89, 999, 99, 99, 1148, 283, 807, 253, 88, 53, 140, 320, 612, 124, 273, 596, 198, 43, 68, 95, 186, 194, 52, 303, 48, 91, 64, 78, 869, 83, 336, 867, 105, 326, 423, 59, 446, 258, 66, 33, 65, 58, 52, 61, 65, 1309, 23, 54, 42, 273, 528, 401, 377, 668, 638, 112, 275, 427, 23, 183, 276, 65, 73, 495, 1542, 33, 330, 755, 366, 141, 457, 193, 240, 257, 305, 527, 389, 52, 71, 55, 201, 551, 54, 55, 95, 61, 61, 63, 1063, 51, 284, 43, 364, 63, 74, 743, 178, 288, 390, 1146, 69, 99, 323, 430, 2334, 260, 54, 89, 128, 1263, 156, 257, 47, 256, 918, 65, 1606, 281, 457, 159, 49, 99, 86, 101, 53, 1130, 485, 101, 75, 42, 1353, 54, 341, 250, 187, 33, 354, 84, 630, 301, 46, 254, 138, 64, 85, 113, 336, 33, 72, 264, 291, 113, 412, 53, 102, 49, 52, 72, 547, 90, 1132, 1664, 393, 277, 71, 89, 93, 127, 53, 178, 83, 354, 283, 62, 86, 86, 72, 273, 383, 463, 217, 104, 269, 595, 61, 718, 850, 236, 196, 269, 655, 104, 269, 83, 67, 1065, 473, 371, 182, 594, 326, 261, 246, 355, 387, 555, 543, 51, 353, 197, 46, 141, 349, 233, 291, 83, 557, 1138, 69, 93, 66, 811, 68, 690, 1309, 45, 48, 51, 644, 55, 100, 709, 445, 353, 198, 420, 114, 358, 1784, 254, 819, 87, 96, 312, 66, 69, 51, 52, 31, 299, 274, 301, 276, 296, 838, 175, 194, 693, 660, 894, 1744, 94, 416, 60, 102, 39, 409, 54, 253, 51, 56, 96, 96, 60, 81, 525, 374, 93, 235, 84, 77, 51, 82, 425, 1114, 77, 733, 988, 132, 840, 136, 265, 360, 325, 245, 863, 152, 173, 603, 350, 291, 627, 579, 283, 241, 257, 229, 68, 67, 470, 429, 272, 54, 56, 42, 33, 48, 83, 32, 693, 527, 54, 61, 443, 646, 845, 148, 192, 104, 142, 103, 113, 55, 397, 213, 40, 73, 60, 68, 439, 68, 312, 71, 68, 68, 352, 437, 54, 48, 42, 54, 74, 186, 102, 281, 324, 775, 320, 129, 374, 59, 775, 159, 296, 63, 296, 102, 390, 35, 23, 282, 81, 42, 343, 87, 118, 337, 48, 79, 56, 305, 353, 810, 171, 40, 824, 110, 35, 52, 1250, 65, 93, 615, 88, 100, 98, 229, 901, 42, 55, 69, 71, 100, 61, 66, 247, 422, 1354, 77, 370, 79, 2233, 212, 205, 104, 60, 379, 222, 76, 63, 110, 62, 1338, 184, 49, 65, 23, 731, 742, 100, 356, 284, 39, 560, 71, 513, 1164, 306, 219, 77, 482, 344, 101, 319, 339, 44, 87, 73, 53, 95, 96, 102, 103, 91, 82, 64, 65, 495, 617, 94, 191, 77, 62, 201, 71, 259, 68, 494, 617, 53, 767, 114, 120, 409, 218, 228, 808, 210, 181, 206, 185, 191, 201, 372, 283, 533, 125, 481, 106, 419, 333, 338, 308, 81, 263, 967, 69, 426, 100, 240, 412, 82, 169, 92, 468, 268, 312, 123, 252, 85, 111, 441, 704, 93, 282, 49, 452, 1196, 267, 231, 119, 772, 729, 519, 98, 85, 111, 130, 82, 156, 52, 49, 52, 434, 57, 931, 286, 812, 983, 960, 1121, 1171, 1550, 389, 71, 201, 100, 54, 103, 54, 88, 70, 84, 245, 54, 40, 78, 64, 93, 231, 998, 191, 78, 55, 109, 44, 64, 238, 299, 751, 1398, 88, 234, 110, 56, 70, 78, 73, 848, 223, 90, 23, 69, 1258, 69, 86, 68, 321, 484, 71, 57, 87, 115, 290, 52, 522, 163, 352, 343, 240, 267, 442, 46, 167, 84, 62, 309, 299, 278, 266, 532, 70, 43, 51, 70, 401, 147, 355, 72, 241, 53, 58, 655, 49, 45, 53, 52, 54, 65, 65, 64, 63, 61, 54, 613, 54, 54, 42, 266, 743, 110, 336, 394, 45, 544, 129, 309, 342, 467, 210, 420, 65, 105, 204, 204, 182, 75, 71, 89, 354, 71, 252, 81, 54, 82, 102, 396, 62, 195, 357, 64, 237, 161, 91, 44, 101, 213, 796, 2744, 251, 72, 89, 102, 64, 103, 305, 33, 33, 78, 1136, 330, 324, 294, 51, 53, 41, 33, 1117, 53, 519, 250, 298, 62, 96, 62, 72, 77, 166, 534, 498, 121, 423, 99, 361, 604, 487, 95, 54, 54, 54, 54, 418, 43, 247, 64, 1297, 533, 310, 82, 244, 205, 425, 90, 607, 80, 126, 39, 802, 675, 35, 175, 243, 304, 355, 275, 345, 349, 688, 84, 1267, 1357, 787, 444, 585, 335, 23, 173, 350, 126, 263, 668, 1782, 271, 291, 533, 326, 631, 801, 332, 65, 844, 189, 526, 906, 101, 94, 93, 2865, 105, 670, 481, 237, 111, 50, 653, 644, 65, 210, 76, 89, 300, 408, 23, 426, 216, 888, 279, 243, 309, 437, 308, 484, 1484, 659, 264, 639, 380, 549, 324, 266, 126, 292, 349, 32, 60, 320, 218, 904, 67, 51, 183, 35, 266, 792, 308, 161, 789, 330, 439, 45, 337, 91, 28, 92, 700, 270, 264, 214, 575, 266, 131, 76, 208, 61, 719, 1088, 259, 1981, 264, 733, 599, 88, 732, 68, 94, 126, 661, 615, 495, 386, 54, 720, 48, 587, 108, 348, 284, 43, 2043, 445, 78, 247, 35, 125, 43, 168, 405, 185, 372, 42, 80, 528, 96, 328, 1293, 244, 2173, 47, 123, 275, 898, 84, 33, 1550, 69, 162, 322, 594, 542, 145, 234, 89, 57, 305, 176, 226, 402, 179, 265, 258, 1036, 23, 430, 501, 1245, 1304, 43, 105, 348, 287, 1147, 163, 556, 253, 606, 350, 111, 290, 52, 340, 488, 70, 231, 146, 1278, 187, 403, 418, 306, 309, 545, 141, 474, 275, 173, 435, 445, 273, 128, 75, 246, 128, 109, 691, 150, 463, 94, 354, 28, 129, 127, 122, 97, 646, 169, 140, 77, 560, 907, 1456, 384, 471, 144, 246, 254, 351, 475, 71, 556, 89, 339, 216, 150, 129, 132, 278, 421, 336, 142, 98, 439, 144, 133, 163, 273, 304, 297, 120, 378, 173, 466, 124, 331, 690, 148, 347, 98, 132, 91, 97, 206, 357, 337, 652, 902, 108, 123, 302, 73, 216, 132, 33, 244, 124, 744, 289, 221, 674, 2912, 499, 633, 333, 428, 221, 105, 287, 58, 106, 242, 277, 223, 103, 223, 44, 53, 398, 596, 616, 118, 688, 1966, 433, 83, 272, 298, 90, 63, 40, 483, 78, 527, 447, 1512, 302, 682, 375, 430, 203, 357, 244, 88, 1015, 339, 289, 133, 663, 203, 463, 412, 159, 283, 1097, 783, 319, 23, 201, 710, 368, 445, 280, 114, 91, 355, 281, 360, 112, 185, 239, 204, 97, 382, 677, 158, 196, 175, 91, 214, 99, 482, 60, 931, 49, 122, 206, 310, 194, 123, 181, 55, 92, 175, 151, 222, 269, 234, 215, 104, 68, 150, 124, 124, 197, 49, 1405, 304, 576, 1303, 52, 245, 265, 183, 804, 80, 105, 32, 229, 347, 5343, 221, 679, 223, 296, 665, 303, 723, 112, 219, 261, 324, 616, 191, 299, 347, 488, 520, 23, 605, 710, 1493, 290, 363, 692, 346, 451, 440, 290, 106, 3253, 284, 224, 210, 93, 313, 330, 273, 739, 444, 23, 84, 95, 151, 45, 49, 173, 192, 96, 284, 58, 618, 269, 467, 308, 218, 23, 929, 436, 66, 91, 71, 120, 59, 60, 77, 87, 1008, 955, 88, 743, 57, 168, 79, 405, 636, 240, 90, 118, 621, 525, 319, 39, 53, 466, 380, 94, 269, 106, 385, 106, 430, 210, 53, 90, 316, 45, 88, 65, 931, 59, 67, 62, 95, 386, 116, 92, 62, 276, 159, 378, 96, 50, 675, 387, 50, 175, 321, 373, 560, 515, 372, 380, 91, 1800, 58, 425, 67, 71, 314, 130, 599, 610, 95, 851, 731, 90, 362, 289, 253, 218, 147, 143, 369, 169, 1382, 119, 150, 341, 362, 113, 165, 143, 94, 488, 245, 418, 382, 46, 63, 56, 66, 452, 562, 320, 509, 346, 1126, 139, 51, 410, 916, 439, 559, 64, 66, 516, 164, 91, 129, 84, 81, 68, 341, 129, 103, 99, 113, 307, 448, 279, 898, 96, 86, 419, 80, 61, 54, 276, 184, 611, 72, 80, 61, 476, 30, 77, 175, 117, 746, 65, 335, 461, 96, 284, 43, 308, 110, 93, 2389, 360, 114, 69, 496, 91, 91, 91, 112, 288, 268, 114, 218, 445, 291, 414, 79, 332, 379, 114, 336, 70, 364, 59, 332, 244, 87, 228, 56, 92, 98, 331, 93, 176, 257, 407, 33, 118, 47, 465, 98, 47, 88, 67, 419, 385, 573, 304, 213, 74, 311, 141, 577, 821, 220, 265, 513, 319, 343, 781, 43, 411, 237, 66, 426, 221, 176, 1443, 120, 462, 76, 287, 128, 63, 73, 390, 72, 204, 889, 86, 587, 46, 480, 213, 212, 1016, 216, 753, 61, 125, 44, 359, 510, 97, 364, 767, 172, 44, 375, 23, 471, 631, 347, 307, 451, 79, 80, 326, 292, 333, 28, 208, 585, 173, 335, 805, 88, 138, 150, 255, 743, 625, 431, 452, 974, 1177, 918, 257, 731, 504, 273, 223, 337, 410, 343, 427, 71, 364, 412, 999, 1240, 477, 499, 999, 101, 446, 521, 772, 944, 470, 776, 390, 1057, 369, 149, 253, 57, 180, 458, 97, 101, 1423, 107, 97, 357, 830, 96, 175, 539, 1934, 356, 915, 427, 495, 140, 484, 315, 341, 70, 250, 395, 552, 526, 75, 66, 104, 83, 382, 70, 90, 360, 101, 554, 143, 536, 683, 2482, 45, 74, 347, 133, 421, 300, 709, 979, 362, 500, 270, 471, 292, 420, 270, 394, 110, 378, 769, 90, 409, 67, 2252, 1936, 330, 441, 506, 102, 472, 83, 74, 345, 61, 222, 79, 273, 678, 353, 472, 715, 454, 996, 643, 32, 66, 104, 356, 99, 190, 132, 366, 524, 602, 1426, 6181, 100, 79, 325, 94, 33, 483, 333, 135, 51, 66, 411, 71, 92, 979, 33, 950, 882, 88, 276, 720, 769, 400, 124, 109, 500, 352, 267, 53, 472, 738, 333, 92, 317, 989, 104, 296, 193, 332, 599, 76, 121, 57, 138, 84, 46, 68, 93, 104, 23, 2502, 931, 966, 649, 176, 430, 535, 67, 380, 199, 747, 232, 71, 344, 1788, 1055, 57, 220, 72, 72, 362, 675, 100, 419, 66, 570, 519, 36, 60, 465, 304, 345, 359, 576, 1946, 439, 73, 899, 455, 899, 738, 7216, 761, 868, 891, 1762, 1057, 323, 207, 417, 63, 70, 491, 1730, 573, 940, 2395, 720, 394, 361, 720, 317, 1220, 102, 349, 245, 957, 750, 1242, 475, 1221, 3099, 251, 104, 1261, 605, 519, 672, 1086, 74, 114, 287, 406, 891, 346, 340, 717, 456, 707, 300, 386, 742, 82, 1508, 640, 818, 443, 785, 475, 779, 89, 501, 158, 435, 604, 662, 401, 278, 101, 106, 507, 333, 1617, 617, 1204, 693, 656, 1382, 438, 233, 1846, 5654, 308, 1879, 1477, 929, 450, 1500, 1290, 1109, 547, 692, 1318, 319, 1063, 276, 92, 492, 335, 382, 465, 103, 387, 91, 337, 120, 229, 216, 60, 155, 174, 464, 79, 193, 411, 106, 28, 937, 923, 715, 437, 392, 901, 576, 236, 1265, 1972, 457, 545, 954, 1084, 112, 288, 370, 91, 442, 323, 452, 72, 45, 84, 353, 3503, 496, 2545, 3343, 1860, 741, 226, 1698, 1338, 413, 545, 707, 3411, 3336, 1663, 1056, 649, 1129, 349, 1824, 480, 1459, 3582, 3248, 406, 319, 1612, 775, 873, 808, 785, 391, 73, 511, 346, 206, 254, 289, 23, 68, 42, 505, 623, 281, 23, 430, 370, 223, 23, 42, 195, 38, 1544, 102, 384, 23, 350, 57, 78, 369, 143, 109, 152, 420, 1145, 713, 283, 354, 311, 288, 317, 326, 1020, 852, 246, 404, 370, 408, 901, 390, 483, 257, 406, 211, 394, 534, 353, 379, 803, 194, 556, 198, 106, 281, 30, 281, 619, 41, 261, 303, 680, 1608, 355, 631, 79, 625, 329, 393, 340, 316, 234]\n",
            "[]\n",
            "                                                    link  ...  checked\n",
            "4      //svodka.akipress.org/news:148517?from=svodka&...  ...        1\n",
            "6      //svodka.akipress.org/news:148512?from=svodka&...  ...        1\n",
            "18     //svodka.akipress.org/news:148468?from=svodka&...  ...        1\n",
            "19     //svodka.akipress.org/news:148440?from=svodka&...  ...        1\n",
            "23     //svodka.akipress.org/news:148405?from=svodka&...  ...        1\n",
            "...                                                  ...  ...      ...\n",
            "54031  //svodka.akipress.org/news:3301?from=svodka&pl...  ...        1\n",
            "54062  //svodka.akipress.org/news:5161?from=svodka&pl...  ...        1\n",
            "54084  //svodka.akipress.org/news:3252?from=svodka&pl...  ...        1\n",
            "54098  //svodka.akipress.org/news:2904?from=svodka&pl...  ...        1\n",
            "54102  //svodka.akipress.org/news:2898?from=svodka&pl...  ...        1\n",
            "\n",
            "[8339 rows x 6 columns]\n"
          ],
          "name": "stdout"
        }
      ]
    },
    {
      "cell_type": "code",
      "metadata": {
        "id": "cZDt4xGvjvc6"
      },
      "source": [
        "from nltk.stem.snowball import SnowballStemmer\n",
        "sbRus = SnowballStemmer('russian')"
      ],
      "execution_count": 122,
      "outputs": []
    },
    {
      "cell_type": "code",
      "metadata": {
        "id": "TpysErFNv8oI"
      },
      "source": [
        "[sbRus.stem(item) for item in (row['text']).split(' ')]"
      ],
      "execution_count": null,
      "outputs": []
    },
    {
      "cell_type": "code",
      "metadata": {
        "colab": {
          "base_uri": "https://localhost:8080/"
        },
        "id": "YNhWsyPG1Ziq",
        "outputId": "4b076414-25fc-472d-fd00-116b56fbe701"
      },
      "source": [
        "from csv import DictReader\n",
        "\n",
        "!pip install cucco\n",
        "\n",
        "from cucco import Cucco\n",
        "\n",
        "cucco = Cucco()"
      ],
      "execution_count": 73,
      "outputs": [
        {
          "output_type": "stream",
          "text": [
            "Requirement already satisfied: cucco in /usr/local/lib/python3.6/dist-packages (2.2.1)\n"
          ],
          "name": "stdout"
        }
      ]
    },
    {
      "cell_type": "code",
      "metadata": {
        "colab": {
          "base_uri": "https://localhost:8080/",
          "height": 223
        },
        "id": "rCcIQObjonjO",
        "outputId": "a422343c-b931-4e6b-8621-5f8ebf43cb44"
      },
      "source": [
        "\n",
        "# iterate over each line as a ordered dictionary and print only few column by column name\n",
        "#with open('cleaned_akipress.csv', 'r') as read_obj:\n",
        "    #csv_dict_reader = DictReader(read_obj)\n",
        "for row in filtered_df:\n",
        "  print(row[4])\n",
        "  #words = row['text'].split(' ')\n",
        "        #' '.join([sbRus.stem(item) for item in words)\n",
        "        #print(words)\n",
        "  #clean_words = [sbRus.stem(item) for item in (row['text']).split(' ')]\n",
        "        #normal_words = cucco.normalize(clean_words, normalizations)\n",
        "        #normal_words.head(5)\n",
        "        #print(clean_words)"
      ],
      "execution_count": 108,
      "outputs": [
        {
          "output_type": "error",
          "ename": "IndexError",
          "evalue": "ignored",
          "traceback": [
            "\u001b[0;31m---------------------------------------------------------------------------\u001b[0m",
            "\u001b[0;31mIndexError\u001b[0m                                Traceback (most recent call last)",
            "\u001b[0;32m<ipython-input-108-dcef483231ca>\u001b[0m in \u001b[0;36m<module>\u001b[0;34m()\u001b[0m\n\u001b[1;32m      4\u001b[0m     \u001b[0;31m#csv_dict_reader = DictReader(read_obj)\u001b[0m\u001b[0;34m\u001b[0m\u001b[0;34m\u001b[0m\u001b[0;34m\u001b[0m\u001b[0m\n\u001b[1;32m      5\u001b[0m \u001b[0;32mfor\u001b[0m \u001b[0mrow\u001b[0m \u001b[0;32min\u001b[0m \u001b[0mfiltered_df\u001b[0m\u001b[0;34m:\u001b[0m\u001b[0;34m\u001b[0m\u001b[0;34m\u001b[0m\u001b[0m\n\u001b[0;32m----> 6\u001b[0;31m   \u001b[0mprint\u001b[0m\u001b[0;34m(\u001b[0m\u001b[0mrow\u001b[0m\u001b[0;34m[\u001b[0m\u001b[0;36m4\u001b[0m\u001b[0;34m]\u001b[0m\u001b[0;34m)\u001b[0m\u001b[0;34m\u001b[0m\u001b[0;34m\u001b[0m\u001b[0m\n\u001b[0m\u001b[1;32m      7\u001b[0m   \u001b[0;31m#words = row['text'].split(' ')\u001b[0m\u001b[0;34m\u001b[0m\u001b[0;34m\u001b[0m\u001b[0;34m\u001b[0m\u001b[0m\n\u001b[1;32m      8\u001b[0m         \u001b[0;31m#' '.join([sbRus.stem(item) for item in words)\u001b[0m\u001b[0;34m\u001b[0m\u001b[0;34m\u001b[0m\u001b[0;34m\u001b[0m\u001b[0m\n",
            "\u001b[0;31mIndexError\u001b[0m: string index out of range"
          ]
        }
      ]
    },
    {
      "cell_type": "code",
      "metadata": {
        "colab": {
          "base_uri": "https://localhost:8080/",
          "height": 126
        },
        "id": "3vIzlGKAlt7X",
        "outputId": "6826a786-264e-428f-eddd-4e3a21e266a9"
      },
      "source": [
        "\n",
        "# iterate over each line as a ordered dictionary and print only few column by column name\n",
        "#with open('cleaned_akipress.csv', 'r') as read_obj:\n",
        "    #csv_dict_reader = DictReader(read_obj)\n",
        "    for row in csv_dict_reader:\n",
        "        #print(row['text'])\n",
        "        words = row['text'].split(' ')\n",
        "        #' '.join([sbRus.stem(item) for item in words)\n",
        "        #print(words)\n",
        "\n",
        "        clean_words = [sbRus.stem(item) for item in (row['text']).split(' ')]\n",
        "        #normal_words = cucco.normalize(clean_words, normalizations)\n",
        "        #normal_words.head(5)\n",
        "        #print(clean_words)\n"
      ],
      "execution_count": 101,
      "outputs": [
        {
          "output_type": "error",
          "ename": "IndentationError",
          "evalue": "ignored",
          "traceback": [
            "\u001b[0;36m  File \u001b[0;32m\"<ipython-input-101-39da2ae4cbd7>\"\u001b[0;36m, line \u001b[0;32m5\u001b[0m\n\u001b[0;31m    for row in filtered_df:\u001b[0m\n\u001b[0m    ^\u001b[0m\n\u001b[0;31mIndentationError\u001b[0m\u001b[0;31m:\u001b[0m unexpected indent\n"
          ]
        }
      ]
    },
    {
      "cell_type": "code",
      "metadata": {
        "colab": {
          "base_uri": "https://localhost:8080/"
        },
        "id": "mKKowgTwnEIp",
        "outputId": "48a57b95-5811-4658-88a2-72139b5bc4ea"
      },
      "source": [
        "\n",
        "\n",
        "\n",
        "  \n"
      ],
      "execution_count": 48,
      "outputs": [
        {
          "output_type": "stream",
          "text": [
            "Requirement already satisfied: cucco in /usr/local/lib/python3.6/dist-packages (2.2.1)\n"
          ],
          "name": "stdout"
        }
      ]
    },
    {
      "cell_type": "code",
      "metadata": {
        "colab": {
          "base_uri": "https://localhost:8080/",
          "height": 126
        },
        "id": "oy_yQQIYy9xd",
        "outputId": "2af3d5d8-3715-47fa-b1e8-ea90dba4c225"
      },
      "source": [
        "normalizations = ['remove_stop_words', 'replace_punctuation', 'remove_extra_whitespaces']\n",
        "\n",
        "\n",
        "  #turn normal_words"
      ],
      "execution_count": 57,
      "outputs": [
        {
          "output_type": "error",
          "ename": "SyntaxError",
          "evalue": "ignored",
          "traceback": [
            "\u001b[0;36m  File \u001b[0;32m\"<ipython-input-57-8170a119c2f6>\"\u001b[0;36m, line \u001b[0;32m3\u001b[0m\n\u001b[0;31m    normal_words = cucco.normalize(clean_words[], normalizations)\u001b[0m\n\u001b[0m                                               ^\u001b[0m\n\u001b[0;31mSyntaxError\u001b[0m\u001b[0;31m:\u001b[0m invalid syntax\n"
          ]
        }
      ]
    },
    {
      "cell_type": "code",
      "metadata": {
        "colab": {
          "base_uri": "https://localhost:8080/",
          "height": 337
        },
        "id": "4eD31lLMoG9u",
        "outputId": "f6229493-13b9-4948-ae28-b60dab5c78bc"
      },
      "source": [
        "\n",
        "\n",
        "\n",
        "\n"
      ],
      "execution_count": 44,
      "outputs": [
        {
          "output_type": "error",
          "ename": "NameError",
          "evalue": "ignored",
          "traceback": [
            "\u001b[0;31m---------------------------------------------------------------------------\u001b[0m",
            "\u001b[0;31mNameError\u001b[0m                                 Traceback (most recent call last)",
            "\u001b[0;32m<ipython-input-44-c5f20763e8fb>\u001b[0m in \u001b[0;36m<module>\u001b[0;34m()\u001b[0m\n\u001b[0;32m----> 1\u001b[0;31m \u001b[0mremove_stop_words\u001b[0m\u001b[0;34m(\u001b[0m\u001b[0mclean_words\u001b[0m\u001b[0;34m,\u001b[0m \u001b[0mignore_case\u001b[0m\u001b[0;34m=\u001b[0m\u001b[0;32mTrue\u001b[0m\u001b[0;34m,\u001b[0m \u001b[0mlanguage\u001b[0m\u001b[0;34m=\u001b[0m\u001b[0;34m'ru'\u001b[0m\u001b[0;34m)\u001b[0m\u001b[0;34m\u001b[0m\u001b[0;34m\u001b[0m\u001b[0m\n\u001b[0m\u001b[1;32m      2\u001b[0m \u001b[0mnormal_words\u001b[0m \u001b[0;34m=\u001b[0m \u001b[0mcucco\u001b[0m\u001b[0;34m.\u001b[0m\u001b[0mnormalize\u001b[0m\u001b[0;34m(\u001b[0m\u001b[0mtext\u001b[0m\u001b[0;34m)\u001b[0m\u001b[0;34m\u001b[0m\u001b[0;34m\u001b[0m\u001b[0m\n\u001b[1;32m      3\u001b[0m   \u001b[0;31m#turn normal_words\u001b[0m\u001b[0;34m\u001b[0m\u001b[0;34m\u001b[0m\u001b[0;34m\u001b[0m\u001b[0m\n\u001b[1;32m      4\u001b[0m \u001b[0mprint\u001b[0m\u001b[0;34m(\u001b[0m\u001b[0mnormal_words\u001b[0m\u001b[0;34m)\u001b[0m\u001b[0;34m\u001b[0m\u001b[0;34m\u001b[0m\u001b[0m\n\u001b[1;32m      5\u001b[0m \u001b[0;34m\u001b[0m\u001b[0m\n",
            "\u001b[0;32m<ipython-input-41-637ed1ed1760>\u001b[0m in \u001b[0;36mremove_stop_words\u001b[0;34m(text, ignore_case, language)\u001b[0m\n\u001b[1;32m      1\u001b[0m \u001b[0;32mdef\u001b[0m \u001b[0mremove_stop_words\u001b[0m\u001b[0;34m(\u001b[0m\u001b[0mtext\u001b[0m\u001b[0;34m,\u001b[0m \u001b[0mignore_case\u001b[0m\u001b[0;34m=\u001b[0m\u001b[0;32mTrue\u001b[0m\u001b[0;34m,\u001b[0m \u001b[0mlanguage\u001b[0m\u001b[0;34m=\u001b[0m\u001b[0;34m'ru'\u001b[0m\u001b[0;34m)\u001b[0m\u001b[0;34m:\u001b[0m\u001b[0;34m\u001b[0m\u001b[0;34m\u001b[0m\u001b[0m\n\u001b[0;32m----> 2\u001b[0;31m   \u001b[0mnormal_words\u001b[0m \u001b[0;34m=\u001b[0m \u001b[0mcucco\u001b[0m\u001b[0;34m.\u001b[0m\u001b[0mnormalize\u001b[0m\u001b[0;34m(\u001b[0m\u001b[0mtext\u001b[0m\u001b[0;34m)\u001b[0m\u001b[0;34m\u001b[0m\u001b[0;34m\u001b[0m\u001b[0m\n\u001b[0m\u001b[1;32m      3\u001b[0m   \u001b[0;31m#turn normal_words\u001b[0m\u001b[0;34m\u001b[0m\u001b[0;34m\u001b[0m\u001b[0;34m\u001b[0m\u001b[0m\n\u001b[1;32m      4\u001b[0m   \u001b[0mprint\u001b[0m\u001b[0;34m(\u001b[0m\u001b[0mnormal_words\u001b[0m\u001b[0;34m)\u001b[0m\u001b[0;34m\u001b[0m\u001b[0;34m\u001b[0m\u001b[0m\n\u001b[1;32m      5\u001b[0m \u001b[0;34m\u001b[0m\u001b[0m\n",
            "\u001b[0;31mNameError\u001b[0m: name 'cucco' is not defined"
          ]
        }
      ]
    },
    {
      "cell_type": "markdown",
      "metadata": {
        "id": "gxhszolBjHyC"
      },
      "source": [
        "## **1. Registration of a complaint**\n",
        "\n",
        "Analytical reports point out that those who decide to press charges usually ask for help crisis centers and organizations providing socio-psychological support (further reffered as 'crisis centers') rather than asking police. A victum often is being told by police not to file a complaint and has to convince police to register their complaint. \n",
        "\n",
        "Here I am looking at what share of the crisis centers' load police is taking upon themselves. \n"
      ]
    },
    {
      "cell_type": "code",
      "metadata": {
        "id": "egmLAy3-wryC"
      },
      "source": [
        ""
      ],
      "execution_count": null,
      "outputs": []
    },
    {
      "cell_type": "code",
      "metadata": {
        "id": "2uj8rzn7kUAJ"
      },
      "source": [
        "registered_cases = mvd_data [' Зарегистри-ровано случаев семейного насилия // REGISTERED CASES']\n",
        "\n",
        "registered_cases"
      ],
      "execution_count": null,
      "outputs": []
    },
    {
      "cell_type": "markdown",
      "metadata": {
        "id": "ZvkbN_vziW_U"
      },
      "source": [
        "National Statistics Committee's data do give a separate number for domestic violence cases among crisis centers enquires. The cases which were not included in the domestic violnece stats are sexual violences, forced marriages, abduction for marriage, juvenile marriages, divorces, etc. These should be counted in based on the definition of 'domestic violence' by Kyrgyz Law: \n",
        "\n",
        "'Семейное насилие (насилие в семье) - это умышленные действия физического, психологического, экономического, сексуального характера или их угроза, совершенные одним членом семьи/приравненным к нему лицом в отношении другого члена семьи/приравненного к нему лица, если эти действия не содержат признаков деяний, за которые предусмотрена уголовная ответственность\"\n",
        "Закон Кыргызской Республики «Об охране и защите от семейного\n",
        "насилия» № 63 от 27 апреля 2017 года.\n",
        "\n",
        "Therefore, further I am considering all the cases from crisis center inquires as domestic violence cases."
      ]
    },
    {
      "cell_type": "code",
      "metadata": {
        "id": "t8iTpJ7Icld_"
      },
      "source": [
        "crisis_centers_data = pd.read_excel(mvd_data_url, sheet_name='кризисные центры')\n",
        "\n",
        "crisis_centers_data"
      ],
      "execution_count": null,
      "outputs": []
    },
    {
      "cell_type": "code",
      "metadata": {
        "id": "BDFIUBN2jeFn"
      },
      "source": [
        "crisis_centers_data_cases = crisis_centers_data['Число обратившихся']\n",
        "crisis_centers_data_cases "
      ],
      "execution_count": null,
      "outputs": []
    },
    {
      "cell_type": "code",
      "metadata": {
        "id": "W5XBzAgMjbpB"
      },
      "source": [
        "n1 = registered_cases / crisis_centers_data_cases * 100\n",
        "n1 = round (n1, 2)\n",
        "\n",
        "\n",
        "print(n1)\n",
        "\n"
      ],
      "execution_count": null,
      "outputs": []
    },
    {
      "cell_type": "markdown",
      "metadata": {
        "id": "Xl7Tf5Ou9OHj"
      },
      "source": [
        "From the outcome we see that almost in all regions police are handling less than a half of the cases, which handle crisis centers. This means that about two thirds of victims are left without police protection, their attackers are not facing any penalties, and crisis centers are taking more workload, which should be done by a police.\n",
        "\n",
        "Furthermore, there are two regions #3 (Chui) and #7 (Jalal Abad), where police registered more cases than crisis centers. In the Chui region there are no crisis centers, the comparison naturally favors police reporting. The capital Bishkek City is located in Chui region geographically. Victims in this region have access to crisis centers in Bishkek. The 914 cases shown in the crisis centers' data in Chui could refer to other organizations providing socio-psychologigal help such as 'court of elders'.\n",
        "\n",
        "Jalal Abad does have one crisis center. The simular tendency was in 2017, where 1132 cases were registered by police and 853 people asked crisis centers for help. The case of Jalal Abad could be a positive police work case, which could be implemented in further state policies. "
      ]
    },
    {
      "cell_type": "markdown",
      "metadata": {
        "id": "B6nFn2zCqzlT"
      },
      "source": [
        "# 3. Issue of a restraint order \n",
        "\n",
        "According to the Protection from Domestic Violence Law the restraint order should be issued in all domestic violence cases after the registration of a complaint. Here I look at the proportion of these orders issued from the pool of registered complaints. \n",
        " "
      ]
    },
    {
      "cell_type": "code",
      "metadata": {
        "id": "_wygtOgYCMme"
      },
      "source": [
        "restraint_orders = mvd_data ['Всего выдано охранных ордеров, единиц// RESTRAINT ORDERS ISSUED']\n",
        "\n",
        "n2 = restraint_orders / registered_cases * 100\n",
        "n2 = round(n2, 2)\n",
        "\n",
        "print(n2)"
      ],
      "execution_count": null,
      "outputs": []
    },
    {
      "cell_type": "markdown",
      "metadata": {
        "id": "1hl9kUPCG7A4"
      },
      "source": [
        "Outcome shows that once a complaint is registered, in majority of the cases this ends up with issuance of a restaining order. Except #3 Chui region, where only half of the agressors get this order. This might indicate that Chui police needs more training on the protocol of how to handle domestic violence cases. \n",
        "\n",
        "**Restraining orders**\n",
        "\n",
        "These orders are valid only for 3 days, which can be prolonged up to 30 days. Often victims are in hospitals or hiding from an attacker so they are not in the position to come to a police station to prolong their restraint order. For comparison, in Europe these orders are given for 30 days initially. \n",
        "\n",
        "Even if an attacker gets a restraining order, in practice it means only a warning from a police officer. This order is not physically preventing an abuser to attack again. The previous (pre-2017) legislation allowed police to hold an abuser in jail for up to 5 days. If a victim has to still hide from an attacker, who already got a restraining order, the effectiveness of this order is restraining a victim rather than an abuser.  \n",
        "\n",
        "The order doesn't allow police to prevent abuser's access to home, if they live together with a victim(s). Technically a victim can kick out an abuser from home but it has to be done via court and a victim often doesn't have mental, financial, legal and sometimes physical means to go to court. As a result, victims are the ones who have to find a shelter for the duration of a restraint order. "
      ]
    },
    {
      "cell_type": "code",
      "metadata": {
        "id": "YDcKNthA9eKO"
      },
      "source": [
        "prolonged_orders = mvd_data['в . ч. продлен-ные охранные ордера// PROLONGED RESTRAINT ORDERS']\n",
        "\n",
        "n3 = prolonged_orders / restraint_orders * 100\n",
        "n3 = round(n3, 2)\n",
        "\n",
        "print(n3)"
      ],
      "execution_count": null,
      "outputs": []
    },
    {
      "cell_type": "markdown",
      "metadata": {
        "id": "7VwZ32-m-fh1"
      },
      "source": [
        "Chui police, despite being not very good at issuing initial restraint orders, dominates massively the numbers of prolonged orders. This might mean that the police departments in this region give restrained orders in more heavy crime cases, which then have higher need to be prolonged. This tendency also shows in relatively high number of criminal investigations compared to other regions (see further below).\n",
        "\n",
        "Osh police's #2 history on domestic violence for 2019 was that they registered 316 cases, all of them involving only physical damage, which means that they don't view other types of cases such as sexual, psychological, etc. as violence and therefore don't register them, stripping victims from their right of protection. Osh police issued exact same number 316 of restraint orders, none of which were prolonged. In the entire year of 2019, the maximum victims of domestic violence could receive from police was three days of a loose protection. In the further prosecution of offenders they opened only 6 criminal cases and only one civil case. This simplistic statistics means that police in Osh city might lack the knowledge of how to handle domestic violence and needs further training."
      ]
    },
    {
      "cell_type": "markdown",
      "metadata": {
        "id": "7mzLjLUukEWo"
      },
      "source": [
        "\n",
        "# 3. Open an investigation\n"
      ]
    },
    {
      "cell_type": "code",
      "metadata": {
        "id": "PKF6b5-DSVhb"
      },
      "source": [
        "domestic_violence_cases = mvd_data ['насилие в семье             ст. 75// DOMESTIC VIOLENCE']\n",
        "n4 = domestic_violence_cases / restraint_orders * 100\n",
        "n4 = round(n4, 2)\n",
        "\n",
        "print(n4)"
      ],
      "execution_count": null,
      "outputs": []
    },
    {
      "cell_type": "markdown",
      "metadata": {
        "id": "9lYSYsybZ2i9"
      },
      "source": [
        "In majority of the regions only about 2/3 of the cases, which got a restraint order issued, got to the point of an investigation.  #1 Bishkek and #3 Chui are not registering all the cases but then investigating not registered ones. This bureaucratic mismatch might result in the difficulties for a victim if they fill decide to press charges. Osh, as was mentioned above, just failed in making offenders face penalties."
      ]
    },
    {
      "cell_type": "markdown",
      "metadata": {
        "id": "5XnhrCnbTDO1"
      },
      "source": [
        "The ideal number of investigations should be equal to registered cases, rather than to the number of issued restraint orders, since not every registered case receives a restaint order. "
      ]
    },
    {
      "cell_type": "code",
      "metadata": {
        "id": "SMjIOTcUO4Sz"
      },
      "source": [
        "domestic_violence_cases = mvd_data ['насилие в семье             ст. 75// DOMESTIC VIOLENCE']\n",
        "n5 = domestic_violence_cases / registered_cases * 100\n",
        "n5 = round(n5, 2)\n",
        "\n",
        "print(n5)"
      ],
      "execution_count": null,
      "outputs": []
    },
    {
      "cell_type": "markdown",
      "metadata": {
        "id": "j3d24oWNUWAW"
      },
      "source": [
        "Although the legislation on domestic violence in Kyrgyzstan has been significantly improved three years ago and considers to be the most progressive in Central Asia, it still in majority of the cases sees domestic violance as a civil misdemiour rather than a crimal case. \n",
        "\n",
        "This allows to stop the investigation / prosecution of an abuser if a victim pulls out their complaint. This happens very often due to a cultural stigma, pressure and threats from in-laws and victim's relatives, and social shaming. \n",
        "\n",
        "If domestic violence would be considered as criminal case, then the accusiotion will be public rather than privat as in case of a civil misdemiour. This would allow police to continue an investigation and prosecution even if the victim pulls out their complaint. \n",
        "\n",
        "Furthermore, the abuser ends up not facing any convictions and penalties, in some cases just paying a fine. And even in that case, money comes from a family budget, leaving lesser means to victim and/or children in the family. Moreover, often a victim is the one who provides for the family and abuser has no income, so victims end up paying fines of their abuser. This means, that the current policy of punishing with fines is not working. In 4389 out of 6145 cases of domestic violence in 2019 abuser was a husband (mvd_data, раздел 8). In 4240 cases abusers were unemployed males (mvd_data, раздел 5). \n",
        "\n",
        "The majority of the civil crime cases include such crimes as beating and body harm, which logically should be prosecuted under Criminal Code. Experts state, that processing domestic violence in criminal court will have positive effects: \n",
        "\n",
        "'Firstly, it guarantees the obligation of the state to investigate crimes committed in the family sphere, and does not shift the responsibility for confronting violence onto the shoulders of the victims. \n",
        "\n",
        "Secondly, criminalization contributes to an effective investigation, as victims of domestic violence are often not able to collect the evidence base for the crime under investigation.\n",
        "\n",
        "Thirdly, the victims will no longer be able to refuse the charge and withdraw the complaint under pressure and intimidation by relatives and other persons during the investigation. If the responsibility for making a decision on filing a complaint and continuing further criminal prosecution lies on a victims (as, for example, in case of private and public-private prosecution), then the pressure and danger from the aggressor not only do not disappear, but, on the contrary, may increase.'"
      ]
    },
    {
      "cell_type": "code",
      "metadata": {
        "id": "dARIHkDgC6zV",
        "colab": {
          "base_uri": "https://localhost:8080/",
          "height": 223
        },
        "outputId": "abdec23e-e703-4ac0-9019-80ccde9f2751"
      },
      "source": [
        "investigations = mvd_data ['Возбуждено уголовных дел вследствие семей-ного насилия, единиц// CRIMINAL CASES ']\n",
        "\n",
        "n6 = investigations / restraint_orders * 100\n",
        "n6 = round(n6, 2)\n",
        "print(n6)"
      ],
      "execution_count": 120,
      "outputs": [
        {
          "output_type": "error",
          "ename": "NameError",
          "evalue": "ignored",
          "traceback": [
            "\u001b[0;31m---------------------------------------------------------------------------\u001b[0m",
            "\u001b[0;31mNameError\u001b[0m                                 Traceback (most recent call last)",
            "\u001b[0;32m<ipython-input-120-ff3fba9bab2f>\u001b[0m in \u001b[0;36m<module>\u001b[0;34m()\u001b[0m\n\u001b[1;32m      1\u001b[0m \u001b[0minvestigations\u001b[0m \u001b[0;34m=\u001b[0m \u001b[0mmvd_data\u001b[0m \u001b[0;34m[\u001b[0m\u001b[0;34m'Возбуждено уголовных дел вследствие семей-ного насилия, единиц// CRIMINAL CASES '\u001b[0m\u001b[0;34m]\u001b[0m\u001b[0;34m\u001b[0m\u001b[0;34m\u001b[0m\u001b[0m\n\u001b[1;32m      2\u001b[0m \u001b[0;34m\u001b[0m\u001b[0m\n\u001b[0;32m----> 3\u001b[0;31m \u001b[0mn6\u001b[0m \u001b[0;34m=\u001b[0m \u001b[0minvestigations\u001b[0m \u001b[0;34m/\u001b[0m \u001b[0mrestraint_orders\u001b[0m \u001b[0;34m*\u001b[0m \u001b[0;36m100\u001b[0m\u001b[0;34m\u001b[0m\u001b[0;34m\u001b[0m\u001b[0m\n\u001b[0m\u001b[1;32m      4\u001b[0m \u001b[0mn6\u001b[0m \u001b[0;34m=\u001b[0m \u001b[0mround\u001b[0m\u001b[0;34m(\u001b[0m\u001b[0mn6\u001b[0m\u001b[0;34m,\u001b[0m \u001b[0;36m2\u001b[0m\u001b[0;34m)\u001b[0m\u001b[0;34m\u001b[0m\u001b[0;34m\u001b[0m\u001b[0m\n\u001b[1;32m      5\u001b[0m \u001b[0mprint\u001b[0m\u001b[0;34m(\u001b[0m\u001b[0mn6\u001b[0m\u001b[0;34m)\u001b[0m\u001b[0;34m\u001b[0m\u001b[0;34m\u001b[0m\u001b[0m\n",
            "\u001b[0;31mNameError\u001b[0m: name 'restraint_orders' is not defined"
          ]
        }
      ]
    },
    {
      "cell_type": "markdown",
      "metadata": {
        "id": "q3rH7SGZZk60"
      },
      "source": [
        "Current situation shows that only 12% of the cases are being prosecuted under the Criminal Code."
      ]
    },
    {
      "cell_type": "markdown",
      "metadata": {
        "id": "GDq-GONgi-lf"
      },
      "source": [
        "# Overall grade\n",
        "In overall grade I am including only the indicators that are based on the work of police in the current legislation. I am not including indicators, which do not depends on police work such as prolonging restraint orders, or the number or criminal cases as in this case police has to follow already set protocol to define the category of the case: criminal or civil. \n",
        "\n",
        "\n"
      ]
    },
    {
      "cell_type": "code",
      "metadata": {
        "id": "V2awko7MJLU_"
      },
      "source": [
        "grade = (n1+n2+n5) / 3\n",
        "grade = round(grade, 2)\n",
        "\n",
        "mvd_data['Grade'] = grade\n",
        "\n",
        "print(mvd_data)"
      ],
      "execution_count": null,
      "outputs": []
    }
  ]
}